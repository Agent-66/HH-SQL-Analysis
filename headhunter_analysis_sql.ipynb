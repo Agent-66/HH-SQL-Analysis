{
  "cells": [
    {
      "cell_type": "markdown",
      "id": "42289889-bd57-434e-9637-d3e354756316",
      "metadata": {
        "id": "42289889-bd57-434e-9637-d3e354756316"
      },
      "source": [
        "<center> <img src = https://raw.githubusercontent.com/AndreyRysistov/DatasetsForPandas/main/hh%20label.jpg alt=\"drawing\" style=\"width:400px;\">"
      ]
    },
    {
      "cell_type": "markdown",
      "id": "829cb75b-f14e-4ba8-9195-7ba929a7d656",
      "metadata": {
        "id": "829cb75b-f14e-4ba8-9195-7ba929a7d656",
        "tags": []
      },
      "source": [
        "# <center> Проект: Анализ вакансий из HeadHunter\n",
        "   "
      ]
    },
    {
      "cell_type": "code",
      "execution_count": 60,
      "id": "dccfde33-2452-43fb-a8a5-5c6ebc02a71d",
      "metadata": {
        "id": "dccfde33-2452-43fb-a8a5-5c6ebc02a71d"
      },
      "outputs": [],
      "source": [
        "import pandas as pd\n",
        "import psycopg2\n",
        "import warnings\n",
        "warnings.filterwarnings('ignore')\n",
        "from collections import Counter"
      ]
    },
    {
      "cell_type": "code",
      "execution_count": 61,
      "id": "oVKH4ehvf8Ay",
      "metadata": {
        "id": "oVKH4ehvf8Ay"
      },
      "outputs": [],
      "source": [
        "# Данные для подключения к базе данных "
      ]
    },
    {
      "cell_type": "code",
      "execution_count": 62,
      "id": "G4X_q8KBf7SF",
      "metadata": {
        "id": "G4X_q8KBf7SF"
      },
      "outputs": [],
      "source": [
        "connection = psycopg2.connect(\n",
        "    dbname=DBNAME,\n",
        "    user=USER,\n",
        "    host=HOST,\n",
        "    password=PASSWORD,\n",
        "    port=PORT\n",
        ")"
      ]
    },
    {
      "cell_type": "markdown",
      "id": "0dc6476b-7a00-44f1-ac93-6e3baed33a29",
      "metadata": {
        "id": "0dc6476b-7a00-44f1-ac93-6e3baed33a29"
      },
      "source": [
        "# Юнит 3. Предварительный анализ данных"
      ]
    },
    {
      "cell_type": "markdown",
      "id": "889782b6-8d1c-410e-8920-e57f27917c64",
      "metadata": {
        "id": "889782b6-8d1c-410e-8920-e57f27917c64"
      },
      "source": [
        "1. Напишите запрос, который посчитает количество вакансий в нашей базе (вакансии находятся в таблице vacancies). "
      ]
    },
    {
      "cell_type": "code",
      "execution_count": 63,
      "id": "bc39e68e-ed02-4ee2-9235-7258a2f867a8",
      "metadata": {
        "id": "bc39e68e-ed02-4ee2-9235-7258a2f867a8"
      },
      "outputs": [],
      "source": [
        "# текст запроса\n",
        "query_3_1 = '''select \n",
        "                    count(id) as vacancies_count\n",
        "                from \n",
        "                    public.vacancies\n",
        "'''"
      ]
    },
    {
      "cell_type": "code",
      "execution_count": 64,
      "id": "7mAwtsk4hEHY",
      "metadata": {
        "id": "7mAwtsk4hEHY"
      },
      "outputs": [
        {
          "name": "stdout",
          "output_type": "stream",
          "text": [
            "В базе данных содержится 49197 вакансий\n"
          ]
        }
      ],
      "source": [
        "# результат запроса\n",
        "df_3_1 = pd.read_sql_query(query_3_1, connection)\n",
        "print(f'В базе данных содержится {df_3_1.iloc[0,0]} вакансий')"
      ]
    },
    {
      "cell_type": "markdown",
      "id": "b583485d-1f9e-494e-ada4-80ffff7c53d6",
      "metadata": {
        "id": "b583485d-1f9e-494e-ada4-80ffff7c53d6"
      },
      "source": [
        "2. Напишите запрос, который посчитает количество работодателей (таблица employers). "
      ]
    },
    {
      "cell_type": "code",
      "execution_count": 65,
      "id": "5408c52c-3407-4a63-b25b-1aafa2322d28",
      "metadata": {
        "id": "5408c52c-3407-4a63-b25b-1aafa2322d28"
      },
      "outputs": [],
      "source": [
        "# текст запроса\n",
        "query_3_2 = '''select \n",
        "                    count(id) as employers_count\n",
        "                from \n",
        "                    public.employers \n",
        "'''"
      ]
    },
    {
      "cell_type": "code",
      "execution_count": 66,
      "id": "jVL4eshKhdqc",
      "metadata": {
        "id": "jVL4eshKhdqc"
      },
      "outputs": [
        {
          "name": "stdout",
          "output_type": "stream",
          "text": [
            "В базе данных представлены сведения о 23501 работодателе\n"
          ]
        }
      ],
      "source": [
        "# результат запроса\n",
        "df_3_2 = pd.read_sql_query(query_3_2, connection)\n",
        "print(f'В базе данных представлены сведения о {df_3_2.iloc[0,0]} работодателе')"
      ]
    },
    {
      "cell_type": "markdown",
      "id": "a2bfff1f-c975-4bf6-84be-2185d79dcb76",
      "metadata": {
        "id": "a2bfff1f-c975-4bf6-84be-2185d79dcb76"
      },
      "source": [
        "3. Посчитате с помощью запроса количество регионов (таблица areas)."
      ]
    },
    {
      "cell_type": "code",
      "execution_count": 67,
      "id": "1m8QJwBYhey6",
      "metadata": {
        "id": "1m8QJwBYhey6"
      },
      "outputs": [],
      "source": [
        "# текст запроса\n",
        "query_3_3 = '''select\n",
        "                    count(id) as areas_count\n",
        "                from\n",
        "                    public.areas \n",
        "'''"
      ]
    },
    {
      "cell_type": "code",
      "execution_count": 68,
      "id": "EZsn9tlfhe7f",
      "metadata": {
        "id": "EZsn9tlfhe7f"
      },
      "outputs": [
        {
          "name": "stdout",
          "output_type": "stream",
          "text": [
            "В базе данных содержатся сведения о 1362 регионах\n"
          ]
        }
      ],
      "source": [
        "# результат запроса\n",
        "df_3_3 = pd.read_sql_query(query_3_3, connection)\n",
        "print(f'В базе данных содержатся сведения о {df_3_3.iloc[0,0]} регионах')"
      ]
    },
    {
      "cell_type": "markdown",
      "id": "41bb59f3-53cc-4a67-a5bc-bedf573955e4",
      "metadata": {
        "id": "41bb59f3-53cc-4a67-a5bc-bedf573955e4"
      },
      "source": [
        "4. Посчитате с помощью запроса количество сфер деятельности в базе (таблица industries)."
      ]
    },
    {
      "cell_type": "code",
      "execution_count": 69,
      "id": "d286cf4c-707b-4cd2-9190-7ab3587d04a1",
      "metadata": {
        "id": "d286cf4c-707b-4cd2-9190-7ab3587d04a1"
      },
      "outputs": [],
      "source": [
        "# текст запроса\n",
        "query_3_4 = '''select\n",
        "                    count(id) as industries_count\n",
        "                from\n",
        "                    public.industries \n",
        "'''"
      ]
    },
    {
      "cell_type": "code",
      "execution_count": 70,
      "id": "JYAaoZ4qhfzW",
      "metadata": {
        "id": "JYAaoZ4qhfzW"
      },
      "outputs": [
        {
          "name": "stdout",
          "output_type": "stream",
          "text": [
            "В базе данных содержатся сведения о 294 сферах деятельности работодателей\n"
          ]
        }
      ],
      "source": [
        "# результат запроса\n",
        "df_3_4 = pd.read_sql_query(query_3_4, connection)\n",
        "print(f'В базе данных содержатся сведения о {df_3_4.iloc[0,0]} сферах деятельности работодателей')"
      ]
    },
    {
      "cell_type": "markdown",
      "id": "9a8a2181-6914-448b-85f1-38f5f18b8a93",
      "metadata": {
        "id": "9a8a2181-6914-448b-85f1-38f5f18b8a93"
      },
      "source": [
        "***"
      ]
    },
    {
      "attachments": {},
      "cell_type": "markdown",
      "id": "0da478ed",
      "metadata": {},
      "source": [
        "### Выводы по предварительному анализу данных:\n",
        "\n",
        "Исследуемая база данных содержит сведения о **49197 вакансиях** для различных специалистов IT-сферы.\n",
        "\n",
        "В базе зарегистрирован **23501 работодатель**, но активные вакансии есть не от каждого из них. Подробный разбор работодателей я привожу в дополнительном блоке в конце проекта.\n",
        "\n",
        "В базу занесено **1362 региона**, в которых могут быть размещены вакансии. Но активные вакансии есть не в каждом регионе. Кроме того, список регионов не унифицирован и не имеет разбивки от крупных территориальных субъектов к мелким (страна - регион - населенный пункт). Поэтому в базе отдельными уникальными регионами считаются, например, Москва, Московская область, Россия. А это усложняет анализ данных и без детальной проработки данных по регионам может внести в результаты исследования существенные искажения.\n"
      ]
    },
    {
      "cell_type": "markdown",
      "id": "8d62a9f3-f64e-4fe7-bdac-c4dffa16155e",
      "metadata": {
        "id": "8d62a9f3-f64e-4fe7-bdac-c4dffa16155e"
      },
      "source": [
        "# Юнит 4. Детальный анализ вакансий"
      ]
    },
    {
      "cell_type": "markdown",
      "id": "93053d3d-b284-481a-9cf7-012d7014c0e0",
      "metadata": {
        "id": "93053d3d-b284-481a-9cf7-012d7014c0e0"
      },
      "source": [
        "1. Напишите запрос, который позволит узнать, сколько (cnt) вакансий в каждом регионе (area).\n",
        "Отсортируйте по количеству вакансий в порядке убывания."
      ]
    },
    {
      "cell_type": "code",
      "execution_count": 71,
      "id": "3f069da6-fdc9-4ae7-b514-fafe2675efd3",
      "metadata": {
        "id": "3f069da6-fdc9-4ae7-b514-fafe2675efd3"
      },
      "outputs": [],
      "source": [
        "# текст запроса\n",
        "query_4_1 = '''select\n",
        "                    a.name area, \n",
        "                    count(v.id) as cnt\n",
        "                from \n",
        "                    public.vacancies v \n",
        "                    join public.areas a on v.area_id = a.id\n",
        "                group by \n",
        "                    a.name\n",
        "                order by \n",
        "                    count(v.id) desc\n",
        "'''"
      ]
    },
    {
      "cell_type": "code",
      "execution_count": 72,
      "id": "P7QL86hrjhRJ",
      "metadata": {
        "id": "P7QL86hrjhRJ"
      },
      "outputs": [
        {
          "data": {
            "text/html": [
              "<div>\n",
              "<style scoped>\n",
              "    .dataframe tbody tr th:only-of-type {\n",
              "        vertical-align: middle;\n",
              "    }\n",
              "\n",
              "    .dataframe tbody tr th {\n",
              "        vertical-align: top;\n",
              "    }\n",
              "\n",
              "    .dataframe thead th {\n",
              "        text-align: right;\n",
              "    }\n",
              "</style>\n",
              "<table border=\"1\" class=\"dataframe\">\n",
              "  <thead>\n",
              "    <tr style=\"text-align: right;\">\n",
              "      <th></th>\n",
              "      <th>area</th>\n",
              "      <th>cnt</th>\n",
              "    </tr>\n",
              "  </thead>\n",
              "  <tbody>\n",
              "    <tr>\n",
              "      <th>0</th>\n",
              "      <td>Москва</td>\n",
              "      <td>5333</td>\n",
              "    </tr>\n",
              "    <tr>\n",
              "      <th>1</th>\n",
              "      <td>Санкт-Петербург</td>\n",
              "      <td>2851</td>\n",
              "    </tr>\n",
              "    <tr>\n",
              "      <th>2</th>\n",
              "      <td>Минск</td>\n",
              "      <td>2112</td>\n",
              "    </tr>\n",
              "    <tr>\n",
              "      <th>3</th>\n",
              "      <td>Новосибирск</td>\n",
              "      <td>2006</td>\n",
              "    </tr>\n",
              "    <tr>\n",
              "      <th>4</th>\n",
              "      <td>Алматы</td>\n",
              "      <td>1892</td>\n",
              "    </tr>\n",
              "  </tbody>\n",
              "</table>\n",
              "</div>"
            ],
            "text/plain": [
              "              area   cnt\n",
              "0           Москва  5333\n",
              "1  Санкт-Петербург  2851\n",
              "2            Минск  2112\n",
              "3      Новосибирск  2006\n",
              "4           Алматы  1892"
            ]
          },
          "metadata": {},
          "output_type": "display_data"
        },
        {
          "name": "stdout",
          "output_type": "stream",
          "text": [
            "Наибольшее число вакансий размещено в следующих регионах: Москва, Санкт-Петербург, Минск, Новосибирск, Алматы.\n"
          ]
        }
      ],
      "source": [
        "# результат запроса\n",
        "df_4_1 = pd.read_sql_query(query_4_1, connection)\n",
        "display(df_4_1.head())\n",
        "print(f'Наибольшее число вакансий размещено в следующих регионах: {df_4_1.iloc[0,0]}, {df_4_1.iloc[1,0]}, {df_4_1.iloc[2,0]}, {df_4_1.iloc[3,0]}, {df_4_1.iloc[4,0]}.')"
      ]
    },
    {
      "cell_type": "markdown",
      "id": "4266f0b6-1646-492a-88b4-2f6a46502135",
      "metadata": {
        "id": "4266f0b6-1646-492a-88b4-2f6a46502135"
      },
      "source": [
        "2. Напишите запрос, чтобы определить у какого количества вакансий заполнено хотя бы одно из двух полей с зарплатой."
      ]
    },
    {
      "cell_type": "code",
      "execution_count": 73,
      "id": "0c44b350-72eb-4d65-8b54-a1fc449ba9fd",
      "metadata": {
        "id": "0c44b350-72eb-4d65-8b54-a1fc449ba9fd"
      },
      "outputs": [],
      "source": [
        "# текст запроса\n",
        "query_4_2 = '''select\n",
        "                    count(id)\n",
        "                from \n",
        "                    public.vacancies\n",
        "                where \n",
        "                    salary_from is not null \n",
        "                    or salary_to is not null\n",
        "'''"
      ]
    },
    {
      "cell_type": "code",
      "execution_count": 74,
      "id": "rhvwaMDkoWTi",
      "metadata": {
        "id": "rhvwaMDkoWTi"
      },
      "outputs": [
        {
          "name": "stdout",
          "output_type": "stream",
          "text": [
            "Заработная плата указана в 24073 вакансиях из 49197, содержащихся в базе данных\n"
          ]
        }
      ],
      "source": [
        "# результат запроса\n",
        "df_4_2 = pd.read_sql_query(query_4_2, connection)\n",
        "print(f'Заработная плата указана в {df_4_2.iloc[0,0]} вакансиях из {df_3_1.iloc[0,0]}, содержащихся в базе данных')"
      ]
    },
    {
      "cell_type": "markdown",
      "id": "635c4d5d-f323-4c66-b428-50a088120aa0",
      "metadata": {
        "id": "635c4d5d-f323-4c66-b428-50a088120aa0"
      },
      "source": [
        "3. Найдите средние значения для нижней и верхней границы зарплатной вилки. Округлите значения до целого."
      ]
    },
    {
      "cell_type": "code",
      "execution_count": 75,
      "id": "603cdbe4-0ec3-4106-8eaf-c73fcdd29165",
      "metadata": {
        "id": "603cdbe4-0ec3-4106-8eaf-c73fcdd29165"
      },
      "outputs": [],
      "source": [
        "# текст запроса\n",
        "query_4_3 = '''select \n",
        "                    round(avg(salary_from)) as avg_salary_from, \n",
        "                    round(avg(salary_to)) as avg_salary_to\n",
        "                from \n",
        "                    public.vacancies\n",
        "'''"
      ]
    },
    {
      "cell_type": "code",
      "execution_count": 76,
      "id": "pswpAb66ovZZ",
      "metadata": {
        "id": "pswpAb66ovZZ"
      },
      "outputs": [
        {
          "name": "stdout",
          "output_type": "stream",
          "text": [
            "Средние значения зарплатной вилки по всем вакансиям находятся в диапазоне от 71065.0 до 110537.0 рублей\n"
          ]
        }
      ],
      "source": [
        "# результат запроса\n",
        "df_4_3 = pd.read_sql_query(query_4_3, connection)\n",
        "print(f'Средние значения зарплатной вилки по всем вакансиям находятся в диапазоне от {df_4_3.iloc[0,0]} до {df_4_3.iloc[0,1]} рублей')"
      ]
    },
    {
      "cell_type": "markdown",
      "id": "f3fdaec9-5fd3-4260-9cf5-1d7406b628a5",
      "metadata": {
        "id": "f3fdaec9-5fd3-4260-9cf5-1d7406b628a5"
      },
      "source": [
        "4. Напишите запрос, который выведет количество вакансий для каждого сочетания типа рабочего графика (schedule) и типа трудоустройства (employment), используемого в вакансиях. Результат отсортируйте по убыванию количества.\n"
      ]
    },
    {
      "cell_type": "code",
      "execution_count": 77,
      "id": "1ea710ec-871b-431e-9462-c7d0fd87011b",
      "metadata": {
        "id": "1ea710ec-871b-431e-9462-c7d0fd87011b"
      },
      "outputs": [],
      "source": [
        "# текст запроса\n",
        "query_4_4 = '''select \n",
        "                    schedule, \n",
        "                    employment, \n",
        "                    count(id) as vacancies_count\n",
        "                from \n",
        "                    public.vacancies\n",
        "                group by \n",
        "                    schedule, \n",
        "                    employment\n",
        "                order by \n",
        "                    count(id) desc\n",
        "'''"
      ]
    },
    {
      "cell_type": "code",
      "execution_count": 78,
      "id": "lGUVqavdo4JQ",
      "metadata": {
        "id": "lGUVqavdo4JQ"
      },
      "outputs": [
        {
          "data": {
            "text/html": [
              "<div>\n",
              "<style scoped>\n",
              "    .dataframe tbody tr th:only-of-type {\n",
              "        vertical-align: middle;\n",
              "    }\n",
              "\n",
              "    .dataframe tbody tr th {\n",
              "        vertical-align: top;\n",
              "    }\n",
              "\n",
              "    .dataframe thead th {\n",
              "        text-align: right;\n",
              "    }\n",
              "</style>\n",
              "<table border=\"1\" class=\"dataframe\">\n",
              "  <thead>\n",
              "    <tr style=\"text-align: right;\">\n",
              "      <th></th>\n",
              "      <th>schedule</th>\n",
              "      <th>employment</th>\n",
              "      <th>vacancies_count</th>\n",
              "    </tr>\n",
              "  </thead>\n",
              "  <tbody>\n",
              "    <tr>\n",
              "      <th>0</th>\n",
              "      <td>Полный день</td>\n",
              "      <td>Полная занятость</td>\n",
              "      <td>35367</td>\n",
              "    </tr>\n",
              "    <tr>\n",
              "      <th>1</th>\n",
              "      <td>Удаленная работа</td>\n",
              "      <td>Полная занятость</td>\n",
              "      <td>7802</td>\n",
              "    </tr>\n",
              "    <tr>\n",
              "      <th>2</th>\n",
              "      <td>Гибкий график</td>\n",
              "      <td>Полная занятость</td>\n",
              "      <td>1593</td>\n",
              "    </tr>\n",
              "    <tr>\n",
              "      <th>3</th>\n",
              "      <td>Удаленная работа</td>\n",
              "      <td>Частичная занятость</td>\n",
              "      <td>1312</td>\n",
              "    </tr>\n",
              "    <tr>\n",
              "      <th>4</th>\n",
              "      <td>Сменный график</td>\n",
              "      <td>Полная занятость</td>\n",
              "      <td>940</td>\n",
              "    </tr>\n",
              "    <tr>\n",
              "      <th>5</th>\n",
              "      <td>Полный день</td>\n",
              "      <td>Стажировка</td>\n",
              "      <td>569</td>\n",
              "    </tr>\n",
              "    <tr>\n",
              "      <th>6</th>\n",
              "      <td>Вахтовый метод</td>\n",
              "      <td>Полная занятость</td>\n",
              "      <td>367</td>\n",
              "    </tr>\n",
              "    <tr>\n",
              "      <th>7</th>\n",
              "      <td>Полный день</td>\n",
              "      <td>Частичная занятость</td>\n",
              "      <td>347</td>\n",
              "    </tr>\n",
              "    <tr>\n",
              "      <th>8</th>\n",
              "      <td>Гибкий график</td>\n",
              "      <td>Частичная занятость</td>\n",
              "      <td>312</td>\n",
              "    </tr>\n",
              "    <tr>\n",
              "      <th>9</th>\n",
              "      <td>Полный день</td>\n",
              "      <td>Проектная работа</td>\n",
              "      <td>141</td>\n",
              "    </tr>\n",
              "    <tr>\n",
              "      <th>10</th>\n",
              "      <td>Удаленная работа</td>\n",
              "      <td>Проектная работа</td>\n",
              "      <td>133</td>\n",
              "    </tr>\n",
              "    <tr>\n",
              "      <th>11</th>\n",
              "      <td>Гибкий график</td>\n",
              "      <td>Стажировка</td>\n",
              "      <td>116</td>\n",
              "    </tr>\n",
              "    <tr>\n",
              "      <th>12</th>\n",
              "      <td>Сменный график</td>\n",
              "      <td>Частичная занятость</td>\n",
              "      <td>101</td>\n",
              "    </tr>\n",
              "    <tr>\n",
              "      <th>13</th>\n",
              "      <td>Удаленная работа</td>\n",
              "      <td>Стажировка</td>\n",
              "      <td>64</td>\n",
              "    </tr>\n",
              "    <tr>\n",
              "      <th>14</th>\n",
              "      <td>Гибкий график</td>\n",
              "      <td>Проектная работа</td>\n",
              "      <td>18</td>\n",
              "    </tr>\n",
              "    <tr>\n",
              "      <th>15</th>\n",
              "      <td>Сменный график</td>\n",
              "      <td>Стажировка</td>\n",
              "      <td>12</td>\n",
              "    </tr>\n",
              "    <tr>\n",
              "      <th>16</th>\n",
              "      <td>Вахтовый метод</td>\n",
              "      <td>Проектная работа</td>\n",
              "      <td>2</td>\n",
              "    </tr>\n",
              "    <tr>\n",
              "      <th>17</th>\n",
              "      <td>Сменный график</td>\n",
              "      <td>Проектная работа</td>\n",
              "      <td>1</td>\n",
              "    </tr>\n",
              "  </tbody>\n",
              "</table>\n",
              "</div>"
            ],
            "text/plain": [
              "            schedule           employment  vacancies_count\n",
              "0        Полный день     Полная занятость            35367\n",
              "1   Удаленная работа     Полная занятость             7802\n",
              "2      Гибкий график     Полная занятость             1593\n",
              "3   Удаленная работа  Частичная занятость             1312\n",
              "4     Сменный график     Полная занятость              940\n",
              "5        Полный день           Стажировка              569\n",
              "6     Вахтовый метод     Полная занятость              367\n",
              "7        Полный день  Частичная занятость              347\n",
              "8      Гибкий график  Частичная занятость              312\n",
              "9        Полный день     Проектная работа              141\n",
              "10  Удаленная работа     Проектная работа              133\n",
              "11     Гибкий график           Стажировка              116\n",
              "12    Сменный график  Частичная занятость              101\n",
              "13  Удаленная работа           Стажировка               64\n",
              "14     Гибкий график     Проектная работа               18\n",
              "15    Сменный график           Стажировка               12\n",
              "16    Вахтовый метод     Проектная работа                2\n",
              "17    Сменный график     Проектная работа                1"
            ]
          },
          "metadata": {},
          "output_type": "display_data"
        },
        {
          "name": "stdout",
          "output_type": "stream",
          "text": [
            "Больше всего вакансий в базе для соискателей, которым подходит \"Полная занятость\" и график работы \"Полный день\" или \"Удаленная работа\"\n"
          ]
        }
      ],
      "source": [
        "# результат запроса\n",
        "df_4_4 = pd.read_sql_query(query_4_4, connection)\n",
        "display(df_4_4)\n",
        "print(f'Больше всего вакансий в базе для соискателей, которым подходит \"{df_4_4.iloc[0,1]}\" и график работы \"{df_4_4.iloc[0,0]}\" или \"{df_4_4.iloc[1,0]}\"')"
      ]
    },
    {
      "cell_type": "markdown",
      "id": "0136ffee-0ead-4a6b-b608-61d1c753a438",
      "metadata": {
        "id": "0136ffee-0ead-4a6b-b608-61d1c753a438"
      },
      "source": [
        "5. Напишите запрос, выводящий значения поля Требуемый опыт работы (experience) в порядке возрастания количества вакансий, в которых указан данный вариант опыта. "
      ]
    },
    {
      "cell_type": "code",
      "execution_count": 79,
      "id": "5b3a8e79-f7ab-4008-b767-12aea3a205ea",
      "metadata": {
        "id": "5b3a8e79-f7ab-4008-b767-12aea3a205ea"
      },
      "outputs": [],
      "source": [
        "# текст запроса\n",
        "query_4_5 = '''select\n",
        "                    experience, \n",
        "                    count(id) vacancies_count\n",
        "                from \n",
        "                    public.vacancies\n",
        "                group by \n",
        "                    experience\n",
        "                order by \n",
        "                    count(id)\n",
        "'''"
      ]
    },
    {
      "cell_type": "code",
      "execution_count": 80,
      "id": "3Is64Y-hpDpq",
      "metadata": {
        "id": "3Is64Y-hpDpq"
      },
      "outputs": [
        {
          "data": {
            "text/html": [
              "<div>\n",
              "<style scoped>\n",
              "    .dataframe tbody tr th:only-of-type {\n",
              "        vertical-align: middle;\n",
              "    }\n",
              "\n",
              "    .dataframe tbody tr th {\n",
              "        vertical-align: top;\n",
              "    }\n",
              "\n",
              "    .dataframe thead th {\n",
              "        text-align: right;\n",
              "    }\n",
              "</style>\n",
              "<table border=\"1\" class=\"dataframe\">\n",
              "  <thead>\n",
              "    <tr style=\"text-align: right;\">\n",
              "      <th></th>\n",
              "      <th>experience</th>\n",
              "      <th>vacancies_count</th>\n",
              "    </tr>\n",
              "  </thead>\n",
              "  <tbody>\n",
              "    <tr>\n",
              "      <th>0</th>\n",
              "      <td>Более 6 лет</td>\n",
              "      <td>1337</td>\n",
              "    </tr>\n",
              "    <tr>\n",
              "      <th>1</th>\n",
              "      <td>Нет опыта</td>\n",
              "      <td>7197</td>\n",
              "    </tr>\n",
              "    <tr>\n",
              "      <th>2</th>\n",
              "      <td>От 3 до 6 лет</td>\n",
              "      <td>14511</td>\n",
              "    </tr>\n",
              "    <tr>\n",
              "      <th>3</th>\n",
              "      <td>От 1 года до 3 лет</td>\n",
              "      <td>26152</td>\n",
              "    </tr>\n",
              "  </tbody>\n",
              "</table>\n",
              "</div>"
            ],
            "text/plain": [
              "           experience  vacancies_count\n",
              "0         Более 6 лет             1337\n",
              "1           Нет опыта             7197\n",
              "2       От 3 до 6 лет            14511\n",
              "3  От 1 года до 3 лет            26152"
            ]
          },
          "metadata": {},
          "output_type": "display_data"
        },
        {
          "name": "stdout",
          "output_type": "stream",
          "text": [
            "Больше всего вакансий в базе для соискателей с опытом работы \"От 1 года до 3 лет\", и меньше всего - для специалистов с опытом работы \"Более 6 лет\"\n"
          ]
        }
      ],
      "source": [
        "# результат запроса\n",
        "df_4_5 = pd.read_sql_query(query_4_5, connection)\n",
        "display(df_4_5)\n",
        "print(f'Больше всего вакансий в базе для соискателей с опытом работы \"{df_4_5.iloc[3,0]}\", и меньше всего - для специалистов с опытом работы \"{df_4_5.iloc[0,0]}\"')"
      ]
    },
    {
      "cell_type": "markdown",
      "id": "oq2b7n1QpIka",
      "metadata": {
        "id": "oq2b7n1QpIka"
      },
      "source": [
        "***"
      ]
    },
    {
      "attachments": {},
      "cell_type": "markdown",
      "id": "fc40034f",
      "metadata": {},
      "source": [
        "### Выводы по детальному анализу вакансий:\n",
        "\n",
        "Анализ вакансий показал, что большинство доступных вакансий размещены в крупнейших городах России (Москва, Санкт-Петербург и городах-миллионники), а также в столицах стран ближнего зарубежья. Это вполне ожидаемо, так как количество рабочих мест напрямую зависит от численности населения в регионе, а в крупных регионах IT-сфера наиболее развита, так как там сосредоточены центральные представительства всех лидеров отрасли. \n",
        "Можно также отметить, что портал Headhanter популярен при размещении вакансий и поиске работы не только в России, но и за рубежом.\n",
        "\n",
        "Подавляющее большинство работодателей (более 93%) ищут сотрудников **на полную занятость**. При этом лишь 15% из них готовы взять сотрудника \"на удаленку\". \n",
        "\n",
        "Виден наибольший спрос на сотрудников **с опытом работы** (более 85% от всех вакансий). \n",
        "Но и начинающие IT-специалисты имеют выбор из 7197 вакансий для старта в карьере. Среди вакансий для новичков есть различные варианты со сатжировкой на производстве.\n",
        "\n",
        "Заработная плата в IT-сфере имеет большой разброс, в размещенных в базе вакансиях указаны цифры от 30 рублей до 1 млн рублей. Однако, это крайние значения и скорее всего их можно считать выбросами. Средняя зарплатная вилка по отрасли составляет **от 71065 до 110537 рублей**.\n"
      ]
    },
    {
      "cell_type": "markdown",
      "id": "7ea20ab6-04a7-40a0-adec-443a0e5a42c3",
      "metadata": {
        "id": "7ea20ab6-04a7-40a0-adec-443a0e5a42c3"
      },
      "source": [
        "# Юнит 5. Анализ работодателей"
      ]
    },
    {
      "cell_type": "markdown",
      "id": "968aed80-74ef-4ffb-b5bf-c65b84e9caea",
      "metadata": {
        "id": "968aed80-74ef-4ffb-b5bf-c65b84e9caea"
      },
      "source": [
        "1. Напишите запрос, который позволит узнать, какие работодатели находятся на первом и пятом месте по количеству вакансий."
      ]
    },
    {
      "cell_type": "code",
      "execution_count": 81,
      "id": "f2d62796-d400-4ec1-a675-88112739a50e",
      "metadata": {
        "id": "f2d62796-d400-4ec1-a675-88112739a50e"
      },
      "outputs": [],
      "source": [
        "# текст запроса\n",
        "query_5_1 = '''select\n",
        "                    e.name,\n",
        "                    count(v.id) as vacancies_count\n",
        "                from \n",
        "                    public.vacancies v\n",
        "                    join public.employers e on v.employer_id = e.id\n",
        "                group by \n",
        "                    e.name\n",
        "                order by \n",
        "                    count(v.id) desc\n",
        "'''"
      ]
    },
    {
      "cell_type": "code",
      "execution_count": 82,
      "id": "64tOMkAxqkQk",
      "metadata": {
        "id": "64tOMkAxqkQk"
      },
      "outputs": [
        {
          "data": {
            "text/html": [
              "<div>\n",
              "<style scoped>\n",
              "    .dataframe tbody tr th:only-of-type {\n",
              "        vertical-align: middle;\n",
              "    }\n",
              "\n",
              "    .dataframe tbody tr th {\n",
              "        vertical-align: top;\n",
              "    }\n",
              "\n",
              "    .dataframe thead th {\n",
              "        text-align: right;\n",
              "    }\n",
              "</style>\n",
              "<table border=\"1\" class=\"dataframe\">\n",
              "  <thead>\n",
              "    <tr style=\"text-align: right;\">\n",
              "      <th></th>\n",
              "      <th>name</th>\n",
              "      <th>vacancies_count</th>\n",
              "    </tr>\n",
              "  </thead>\n",
              "  <tbody>\n",
              "    <tr>\n",
              "      <th>0</th>\n",
              "      <td>Яндекс</td>\n",
              "      <td>1933</td>\n",
              "    </tr>\n",
              "    <tr>\n",
              "      <th>1</th>\n",
              "      <td>Ростелеком</td>\n",
              "      <td>491</td>\n",
              "    </tr>\n",
              "    <tr>\n",
              "      <th>2</th>\n",
              "      <td>Тинькофф</td>\n",
              "      <td>444</td>\n",
              "    </tr>\n",
              "    <tr>\n",
              "      <th>3</th>\n",
              "      <td>СБЕР</td>\n",
              "      <td>428</td>\n",
              "    </tr>\n",
              "    <tr>\n",
              "      <th>4</th>\n",
              "      <td>Газпром нефть</td>\n",
              "      <td>331</td>\n",
              "    </tr>\n",
              "  </tbody>\n",
              "</table>\n",
              "</div>"
            ],
            "text/plain": [
              "            name  vacancies_count\n",
              "0         Яндекс             1933\n",
              "1     Ростелеком              491\n",
              "2       Тинькофф              444\n",
              "3           СБЕР              428\n",
              "4  Газпром нефть              331"
            ]
          },
          "metadata": {},
          "output_type": "display_data"
        },
        {
          "name": "stdout",
          "output_type": "stream",
          "text": [
            "На первом месте среди работодателей по числу вакансий находится компания \"Яндекс\", на 5-м месте - \"Газпром нефть\"\n"
          ]
        }
      ],
      "source": [
        "# результат запроса\n",
        "df_5_1 = pd.read_sql_query(query_5_1, connection)\n",
        "display(df_5_1.head())\n",
        "print(f'На первом месте среди работодателей по числу вакансий находится компания \"{df_5_1.iloc[0,0]}\", на 5-м месте - \"{df_5_1.iloc[4,0]}\"')"
      ]
    },
    {
      "cell_type": "markdown",
      "id": "68377cfc-b378-43dc-ab7d-1195abf2c515",
      "metadata": {
        "id": "68377cfc-b378-43dc-ab7d-1195abf2c515"
      },
      "source": [
        "2. Напишите запрос, который для каждого региона выведет количество работодателей и вакансий в нём.\n",
        "Среди регионов, в которых нет вакансий, найдите тот, в котором наибольшее количество работодателей.\n"
      ]
    },
    {
      "cell_type": "code",
      "execution_count": 83,
      "id": "dd7df27a-e3e8-412e-a21a-5d389b71e891",
      "metadata": {
        "id": "dd7df27a-e3e8-412e-a21a-5d389b71e891"
      },
      "outputs": [],
      "source": [
        "# текст запроса\n",
        "query_5_2 = f'''select \n",
        "                    a.name as area, \n",
        "                    count(v.id) as vacancies_count, \n",
        "                    count(e.id) as employers_count\n",
        "                from \n",
        "                    public.areas a\n",
        "                    left join public.vacancies v on a.id = v.area_id\n",
        "                    left join public.employers e on a.id = e.area\n",
        "                group by \n",
        "                    a.id\n",
        "                having \n",
        "                    count(v.id) = 0\n",
        "                order by \n",
        "                    count(e.id) desc\n",
        "'''"
      ]
    },
    {
      "cell_type": "code",
      "execution_count": 84,
      "id": "x1ikWbydrbf6",
      "metadata": {
        "id": "x1ikWbydrbf6"
      },
      "outputs": [
        {
          "data": {
            "text/html": [
              "<div>\n",
              "<style scoped>\n",
              "    .dataframe tbody tr th:only-of-type {\n",
              "        vertical-align: middle;\n",
              "    }\n",
              "\n",
              "    .dataframe tbody tr th {\n",
              "        vertical-align: top;\n",
              "    }\n",
              "\n",
              "    .dataframe thead th {\n",
              "        text-align: right;\n",
              "    }\n",
              "</style>\n",
              "<table border=\"1\" class=\"dataframe\">\n",
              "  <thead>\n",
              "    <tr style=\"text-align: right;\">\n",
              "      <th></th>\n",
              "      <th>area</th>\n",
              "      <th>vacancies_count</th>\n",
              "      <th>employers_count</th>\n",
              "    </tr>\n",
              "  </thead>\n",
              "  <tbody>\n",
              "    <tr>\n",
              "      <th>0</th>\n",
              "      <td>Россия</td>\n",
              "      <td>0</td>\n",
              "      <td>410</td>\n",
              "    </tr>\n",
              "    <tr>\n",
              "      <th>1</th>\n",
              "      <td>Казахстан</td>\n",
              "      <td>0</td>\n",
              "      <td>207</td>\n",
              "    </tr>\n",
              "    <tr>\n",
              "      <th>2</th>\n",
              "      <td>Московская область</td>\n",
              "      <td>0</td>\n",
              "      <td>75</td>\n",
              "    </tr>\n",
              "    <tr>\n",
              "      <th>3</th>\n",
              "      <td>Краснодарский край</td>\n",
              "      <td>0</td>\n",
              "      <td>19</td>\n",
              "    </tr>\n",
              "    <tr>\n",
              "      <th>4</th>\n",
              "      <td>Беларусь</td>\n",
              "      <td>0</td>\n",
              "      <td>18</td>\n",
              "    </tr>\n",
              "  </tbody>\n",
              "</table>\n",
              "</div>"
            ],
            "text/plain": [
              "                 area  vacancies_count  employers_count\n",
              "0              Россия                0              410\n",
              "1           Казахстан                0              207\n",
              "2  Московская область                0               75\n",
              "3  Краснодарский край                0               19\n",
              "4            Беларусь                0               18"
            ]
          },
          "metadata": {},
          "output_type": "display_data"
        },
        {
          "name": "stdout",
          "output_type": "stream",
          "text": [
            "Наибольшее число работодателей, от которых нет вакансий (410 компаний), относятся к обобщенному региону \"Россия\"\n"
          ]
        }
      ],
      "source": [
        "# результат запроса\n",
        "df_5_2 = pd.read_sql_query(query_5_2, connection)\n",
        "display(df_5_2.head())\n",
        "print(f'Наибольшее число работодателей, от которых нет вакансий ({df_5_2.iloc[0,2]} компаний), относятся к обобщенному региону \"{df_5_2.iloc[0,0]}\"')"
      ]
    },
    {
      "cell_type": "markdown",
      "id": "f2fe0acb-ab1a-4e15-9326-2560e22d73c1",
      "metadata": {
        "id": "f2fe0acb-ab1a-4e15-9326-2560e22d73c1"
      },
      "source": [
        "3. Для каждого работодателя посчитайте количество регионов, в которых он публикует свои вакансии. Отсортируйте результат по убыванию количества.\n"
      ]
    },
    {
      "cell_type": "code",
      "execution_count": 85,
      "id": "6271f8ad-bd2e-4196-ae4a-5b39c4c1010e",
      "metadata": {
        "id": "6271f8ad-bd2e-4196-ae4a-5b39c4c1010e"
      },
      "outputs": [],
      "source": [
        "# текст запроса\n",
        "query_5_3 = '''select \n",
        "                    e.name as employer_name, \n",
        "                    count(distinct v.area_id) as areas_count\n",
        "                from \n",
        "                    public.vacancies v\n",
        "                    join public.employers e on v.employer_id = e.id\n",
        "                group by \n",
        "                    e.name\n",
        "                order by\n",
        "                    count(distinct v.area_id) desc\n",
        "'''"
      ]
    },
    {
      "cell_type": "code",
      "execution_count": 86,
      "id": "1EIvX3HasH4F",
      "metadata": {
        "id": "1EIvX3HasH4F"
      },
      "outputs": [
        {
          "data": {
            "text/html": [
              "<div>\n",
              "<style scoped>\n",
              "    .dataframe tbody tr th:only-of-type {\n",
              "        vertical-align: middle;\n",
              "    }\n",
              "\n",
              "    .dataframe tbody tr th {\n",
              "        vertical-align: top;\n",
              "    }\n",
              "\n",
              "    .dataframe thead th {\n",
              "        text-align: right;\n",
              "    }\n",
              "</style>\n",
              "<table border=\"1\" class=\"dataframe\">\n",
              "  <thead>\n",
              "    <tr style=\"text-align: right;\">\n",
              "      <th></th>\n",
              "      <th>employer_name</th>\n",
              "      <th>areas_count</th>\n",
              "    </tr>\n",
              "  </thead>\n",
              "  <tbody>\n",
              "    <tr>\n",
              "      <th>0</th>\n",
              "      <td>Яндекс</td>\n",
              "      <td>181</td>\n",
              "    </tr>\n",
              "    <tr>\n",
              "      <th>1</th>\n",
              "      <td>Ростелеком</td>\n",
              "      <td>152</td>\n",
              "    </tr>\n",
              "    <tr>\n",
              "      <th>2</th>\n",
              "      <td>Спецремонт</td>\n",
              "      <td>116</td>\n",
              "    </tr>\n",
              "    <tr>\n",
              "      <th>3</th>\n",
              "      <td>Поляков Денис Иванович</td>\n",
              "      <td>88</td>\n",
              "    </tr>\n",
              "    <tr>\n",
              "      <th>4</th>\n",
              "      <td>ООО ЕФИН</td>\n",
              "      <td>71</td>\n",
              "    </tr>\n",
              "    <tr>\n",
              "      <th>5</th>\n",
              "      <td>Совкомбанк</td>\n",
              "      <td>63</td>\n",
              "    </tr>\n",
              "    <tr>\n",
              "      <th>6</th>\n",
              "      <td>МТС</td>\n",
              "      <td>55</td>\n",
              "    </tr>\n",
              "    <tr>\n",
              "      <th>7</th>\n",
              "      <td>ЭФКО, Управляющая компания</td>\n",
              "      <td>49</td>\n",
              "    </tr>\n",
              "    <tr>\n",
              "      <th>8</th>\n",
              "      <td>Почта России</td>\n",
              "      <td>48</td>\n",
              "    </tr>\n",
              "    <tr>\n",
              "      <th>9</th>\n",
              "      <td>КРОН</td>\n",
              "      <td>48</td>\n",
              "    </tr>\n",
              "  </tbody>\n",
              "</table>\n",
              "</div>"
            ],
            "text/plain": [
              "                employer_name  areas_count\n",
              "0                      Яндекс          181\n",
              "1                  Ростелеком          152\n",
              "2                  Спецремонт          116\n",
              "3      Поляков Денис Иванович           88\n",
              "4                   ООО ЕФИН            71\n",
              "5                  Совкомбанк           63\n",
              "6                         МТС           55\n",
              "7  ЭФКО, Управляющая компания           49\n",
              "8                Почта России           48\n",
              "9                        КРОН           48"
            ]
          },
          "metadata": {},
          "output_type": "display_data"
        },
        {
          "name": "stdout",
          "output_type": "stream",
          "text": [
            "Компания Яндекс лидирует среди работодателей по числу регионов, в которых размещены ее вакансии\n"
          ]
        }
      ],
      "source": [
        "# результат запроса\n",
        "df_5_3 = pd.read_sql_query(query_5_3, connection)\n",
        "display(df_5_3.head(10))\n",
        "print(f'Компания {df_5_3.iloc[0,0]} лидирует среди работодателей по числу регионов, в которых размещены ее вакансии')"
      ]
    },
    {
      "cell_type": "markdown",
      "id": "eab2206d-d95b-468b-8e5f-34381abf0ce7",
      "metadata": {
        "id": "eab2206d-d95b-468b-8e5f-34381abf0ce7"
      },
      "source": [
        "4. Напишите запрос для подсчёта количества работодателей, у которых не указана сфера деятельности. "
      ]
    },
    {
      "cell_type": "code",
      "execution_count": 87,
      "id": "80defb23-bfb1-4a18-8be6-bf36aa7165d5",
      "metadata": {
        "id": "80defb23-bfb1-4a18-8be6-bf36aa7165d5"
      },
      "outputs": [],
      "source": [
        "# текст запроса\n",
        "query_5_4 = '''select \n",
        "                    count(e.id) as count_null_industry\n",
        "                from \n",
        "                    public.employers e\n",
        "                    left join public.employers_industries ei on e.id = ei.employer_id\n",
        "                where \n",
        "                    ei.industry_id is null\n",
        "'''"
      ]
    },
    {
      "cell_type": "code",
      "execution_count": 88,
      "id": "Dp_yCx6ysQSu",
      "metadata": {
        "id": "Dp_yCx6ysQSu"
      },
      "outputs": [
        {
          "name": "stdout",
          "output_type": "stream",
          "text": [
            "В базе данных содержится информация о 8419 работодателях, у которых не указана сфера деятельности\n"
          ]
        }
      ],
      "source": [
        "# результат запроса\n",
        "df_5_4 = pd.read_sql_query(query_5_4, connection)\n",
        "print(f'В базе данных содержится информация о {df_5_4.iloc[0,0]} работодателях, у которых не указана сфера деятельности')"
      ]
    },
    {
      "cell_type": "markdown",
      "id": "0112af31-f6b0-4e3b-82ab-71296e752e5e",
      "metadata": {
        "id": "0112af31-f6b0-4e3b-82ab-71296e752e5e"
      },
      "source": [
        "5. Напишите запрос, чтобы узнать название компании, находящейся на третьем месте в алфавитном списке (по названию) компаний, у которых указано четыре сферы деятельности. "
      ]
    },
    {
      "cell_type": "code",
      "execution_count": 89,
      "id": "973b0cfc-a972-470a-8b4a-68744ef220c4",
      "metadata": {
        "id": "973b0cfc-a972-470a-8b4a-68744ef220c4"
      },
      "outputs": [],
      "source": [
        "# текст запроса\n",
        "query_5_5 = '''select \n",
        "                    e.name as employer_name, \n",
        "                    count(ei.industry_id) as industries_count\n",
        "                from \n",
        "                    public.employers e\n",
        "                    left join public.employers_industries ei on e.id = ei.employer_id\n",
        "                group by \n",
        "                    e.id\n",
        "                having\n",
        "                    count(ei.industry_id) = 4\n",
        "                order by \n",
        "                    e.name\n",
        "'''"
      ]
    },
    {
      "cell_type": "code",
      "execution_count": 90,
      "id": "xsPtpp8EsaED",
      "metadata": {
        "id": "xsPtpp8EsaED"
      },
      "outputs": [
        {
          "data": {
            "text/html": [
              "<div>\n",
              "<style scoped>\n",
              "    .dataframe tbody tr th:only-of-type {\n",
              "        vertical-align: middle;\n",
              "    }\n",
              "\n",
              "    .dataframe tbody tr th {\n",
              "        vertical-align: top;\n",
              "    }\n",
              "\n",
              "    .dataframe thead th {\n",
              "        text-align: right;\n",
              "    }\n",
              "</style>\n",
              "<table border=\"1\" class=\"dataframe\">\n",
              "  <thead>\n",
              "    <tr style=\"text-align: right;\">\n",
              "      <th></th>\n",
              "      <th>employer_name</th>\n",
              "      <th>industries_count</th>\n",
              "    </tr>\n",
              "  </thead>\n",
              "  <tbody>\n",
              "    <tr>\n",
              "      <th>0</th>\n",
              "      <td>101 Интернет</td>\n",
              "      <td>4</td>\n",
              "    </tr>\n",
              "    <tr>\n",
              "      <th>1</th>\n",
              "      <td>21vek.by</td>\n",
              "      <td>4</td>\n",
              "    </tr>\n",
              "    <tr>\n",
              "      <th>2</th>\n",
              "      <td>2ГИС</td>\n",
              "      <td>4</td>\n",
              "    </tr>\n",
              "    <tr>\n",
              "      <th>3</th>\n",
              "      <td>2К</td>\n",
              "      <td>4</td>\n",
              "    </tr>\n",
              "    <tr>\n",
              "      <th>4</th>\n",
              "      <td>4 пикселя +</td>\n",
              "      <td>4</td>\n",
              "    </tr>\n",
              "  </tbody>\n",
              "</table>\n",
              "</div>"
            ],
            "text/plain": [
              "  employer_name  industries_count\n",
              "0  101 Интернет                 4\n",
              "1      21vek.by                 4\n",
              "2          2ГИС                 4\n",
              "3            2К                 4\n",
              "4   4 пикселя +                 4"
            ]
          },
          "metadata": {},
          "output_type": "display_data"
        },
        {
          "name": "stdout",
          "output_type": "stream",
          "text": [
            "Среди работодателей, у которых указано 4 сферы деятельности, на 3-м месте (по алфавиту) находится компания \"2ГИС\"\n"
          ]
        }
      ],
      "source": [
        "# результат запроса\n",
        "df_5_5 = pd.read_sql_query(query_5_5, connection)\n",
        "display(df_5_5.head())\n",
        "print(f'Среди работодателей, у которых указано 4 сферы деятельности, на 3-м месте (по алфавиту) находится компания \"{df_5_5.iloc[2,0]}\"')"
      ]
    },
    {
      "cell_type": "markdown",
      "id": "3bfcfdaf-755d-4d2b-8ed8-326201dc07ab",
      "metadata": {
        "id": "3bfcfdaf-755d-4d2b-8ed8-326201dc07ab"
      },
      "source": [
        "6. С помощью запроса выясните, у какого количества работодателей в качестве сферы деятельности указана Разработка программного обеспечения.\n"
      ]
    },
    {
      "cell_type": "code",
      "execution_count": 91,
      "id": "ad3f270f-2991-47eb-929b-e8f88a55b0d1",
      "metadata": {
        "id": "ad3f270f-2991-47eb-929b-e8f88a55b0d1"
      },
      "outputs": [],
      "source": [
        "# текст запроса\n",
        "query_5_6 = '''select \n",
        "                    count(ei.employer_id) as employers_count\n",
        "                from \n",
        "                    public.employers_industries ei\n",
        "                    left join public.industries i on ei.industry_id = i.id\n",
        "                where \n",
        "                    i.name = 'Разработка программного обеспечения'\n",
        "'''"
      ]
    },
    {
      "cell_type": "code",
      "execution_count": 92,
      "id": "H72qxWM0shPR",
      "metadata": {
        "id": "H72qxWM0shPR"
      },
      "outputs": [
        {
          "name": "stdout",
          "output_type": "stream",
          "text": [
            "В базе данных имеется информация о 3553 работодателях, одной из сфер деятельности которых указана \"Разработка программного обеспечения\"\n"
          ]
        }
      ],
      "source": [
        "# результат запроса\n",
        "df_5_6 = pd.read_sql_query(query_5_6, connection)\n",
        "print(f'В базе данных имеется информация о {df_5_6.iloc[0,0]} работодателях, одной из сфер деятельности которых указана \"Разработка программного обеспечения\"')"
      ]
    },
    {
      "cell_type": "markdown",
      "id": "7b02bb86-0546-40fb-94a4-242f050a5c57",
      "metadata": {
        "id": "7b02bb86-0546-40fb-94a4-242f050a5c57"
      },
      "source": [
        "7. Для компании «Яндекс» выведите список регионов-миллионников, в которых представлены вакансии компании, вместе с количеством вакансий в этих регионах. Также добавьте строку Total с общим количеством вакансий компании. Результат отсортируйте по возрастанию количества.\n",
        "\n",
        "Список городов-милионников надо взять [отсюда](https://ru.wikipedia.org/wiki/%D0%93%D0%BE%D1%80%D0%BE%D0%B4%D0%B0-%D0%BC%D0%B8%D0%BB%D0%BB%D0%B8%D0%BE%D0%BD%D0%B5%D1%80%D1%8B_%D0%A0%D0%BE%D1%81%D1%81%D0%B8%D0%B8). \n",
        "\n",
        "Если возникнут трудности с этим задание посмотрите материалы модуля  PYTHON-17. Как получать данные из веб-источников и API. "
      ]
    },
    {
      "cell_type": "code",
      "execution_count": 93,
      "id": "ZdfrL6gIs1Pn",
      "metadata": {
        "id": "ZdfrL6gIs1Pn"
      },
      "outputs": [
        {
          "name": "stdout",
          "output_type": "stream",
          "text": [
            "('Москва', 'Санкт-Петербург', 'Новосибирск', 'Екатеринбург', 'Казань', 'Нижний Новгород', 'Красноярск', 'Челябинск', 'Самара', 'Уфа', 'Ростов-на-Дону', 'Омск', 'Краснодар', 'Воронеж', 'Пермь', 'Волгоград')\n"
          ]
        }
      ],
      "source": [
        "# код для получения списка городов-милионников\n",
        "url = 'https://ru.wikipedia.org/wiki/%D0%93%D0%BE%D1%80%D0%BE%D0%B4%D0%B0-%D0%BC%D0%B8%D0%BB%D0%BB%D0%B8%D0%BE%D0%BD%D0%B5%D1%80%D1%8B_%D0%A0%D0%BE%D1%81%D1%81%D0%B8%D0%B8'\n",
        "million_city_df = pd.read_html(url)[1]\n",
        "million_city_df = million_city_df['Город'].replace('Воронеж[a]', 'Воронеж')\n",
        "million_city_tuple = tuple(million_city_df)\n",
        "print(million_city_tuple)"
      ]
    },
    {
      "cell_type": "code",
      "execution_count": 94,
      "id": "5a0e32a4-e68a-4365-8a39-2fe24c542c36",
      "metadata": {
        "id": "5a0e32a4-e68a-4365-8a39-2fe24c542c36"
      },
      "outputs": [],
      "source": [
        "# текст запроса\n",
        "query_5_7 = f'''select \n",
        "                    a.name as million_city_name, \n",
        "                    count(v.id) as vacancies_count\n",
        "                from \n",
        "                    public.vacancies v\n",
        "                    left join public.areas a on v.area_id = a.id\n",
        "                    left join public.employers e on v.employer_id = e.id\n",
        "                where \n",
        "                    e.name = 'Яндекс' \n",
        "                    and a.name in {million_city_tuple}\n",
        "                group by \n",
        "                    a.id\n",
        "                \n",
        "                union all\n",
        "                \n",
        "                select \n",
        "                    'Total', \n",
        "                    count(v.id)\n",
        "                from \n",
        "                    public.vacancies v\n",
        "                    left join public.areas a on v.area_id = a.id\n",
        "                    left join public.employers e on v.employer_id = e.id\n",
        "                where \n",
        "                    e.name = 'Яндекс' \n",
        "                    and a.name in {million_city_tuple}\n",
        "                \n",
        "                order by 2\n",
        "'''"
      ]
    },
    {
      "cell_type": "code",
      "execution_count": 95,
      "id": "ttPhiO1rsvPq",
      "metadata": {
        "id": "ttPhiO1rsvPq"
      },
      "outputs": [
        {
          "data": {
            "text/html": [
              "<div>\n",
              "<style scoped>\n",
              "    .dataframe tbody tr th:only-of-type {\n",
              "        vertical-align: middle;\n",
              "    }\n",
              "\n",
              "    .dataframe tbody tr th {\n",
              "        vertical-align: top;\n",
              "    }\n",
              "\n",
              "    .dataframe thead th {\n",
              "        text-align: right;\n",
              "    }\n",
              "</style>\n",
              "<table border=\"1\" class=\"dataframe\">\n",
              "  <thead>\n",
              "    <tr style=\"text-align: right;\">\n",
              "      <th></th>\n",
              "      <th>million_city_name</th>\n",
              "      <th>vacancies_count</th>\n",
              "    </tr>\n",
              "  </thead>\n",
              "  <tbody>\n",
              "    <tr>\n",
              "      <th>0</th>\n",
              "      <td>Омск</td>\n",
              "      <td>21</td>\n",
              "    </tr>\n",
              "    <tr>\n",
              "      <th>1</th>\n",
              "      <td>Челябинск</td>\n",
              "      <td>22</td>\n",
              "    </tr>\n",
              "    <tr>\n",
              "      <th>2</th>\n",
              "      <td>Красноярск</td>\n",
              "      <td>23</td>\n",
              "    </tr>\n",
              "    <tr>\n",
              "      <th>3</th>\n",
              "      <td>Волгоград</td>\n",
              "      <td>24</td>\n",
              "    </tr>\n",
              "    <tr>\n",
              "      <th>4</th>\n",
              "      <td>Пермь</td>\n",
              "      <td>25</td>\n",
              "    </tr>\n",
              "    <tr>\n",
              "      <th>5</th>\n",
              "      <td>Казань</td>\n",
              "      <td>25</td>\n",
              "    </tr>\n",
              "    <tr>\n",
              "      <th>6</th>\n",
              "      <td>Ростов-на-Дону</td>\n",
              "      <td>25</td>\n",
              "    </tr>\n",
              "    <tr>\n",
              "      <th>7</th>\n",
              "      <td>Самара</td>\n",
              "      <td>26</td>\n",
              "    </tr>\n",
              "    <tr>\n",
              "      <th>8</th>\n",
              "      <td>Уфа</td>\n",
              "      <td>26</td>\n",
              "    </tr>\n",
              "    <tr>\n",
              "      <th>9</th>\n",
              "      <td>Краснодар</td>\n",
              "      <td>30</td>\n",
              "    </tr>\n",
              "    <tr>\n",
              "      <th>10</th>\n",
              "      <td>Воронеж</td>\n",
              "      <td>32</td>\n",
              "    </tr>\n",
              "    <tr>\n",
              "      <th>11</th>\n",
              "      <td>Новосибирск</td>\n",
              "      <td>35</td>\n",
              "    </tr>\n",
              "    <tr>\n",
              "      <th>12</th>\n",
              "      <td>Нижний Новгород</td>\n",
              "      <td>36</td>\n",
              "    </tr>\n",
              "    <tr>\n",
              "      <th>13</th>\n",
              "      <td>Екатеринбург</td>\n",
              "      <td>39</td>\n",
              "    </tr>\n",
              "    <tr>\n",
              "      <th>14</th>\n",
              "      <td>Санкт-Петербург</td>\n",
              "      <td>42</td>\n",
              "    </tr>\n",
              "    <tr>\n",
              "      <th>15</th>\n",
              "      <td>Москва</td>\n",
              "      <td>54</td>\n",
              "    </tr>\n",
              "    <tr>\n",
              "      <th>16</th>\n",
              "      <td>Total</td>\n",
              "      <td>485</td>\n",
              "    </tr>\n",
              "  </tbody>\n",
              "</table>\n",
              "</div>"
            ],
            "text/plain": [
              "   million_city_name  vacancies_count\n",
              "0               Омск               21\n",
              "1          Челябинск               22\n",
              "2         Красноярск               23\n",
              "3          Волгоград               24\n",
              "4              Пермь               25\n",
              "5             Казань               25\n",
              "6     Ростов-на-Дону               25\n",
              "7             Самара               26\n",
              "8                Уфа               26\n",
              "9          Краснодар               30\n",
              "10           Воронеж               32\n",
              "11       Новосибирск               35\n",
              "12   Нижний Новгород               36\n",
              "13      Екатеринбург               39\n",
              "14   Санкт-Петербург               42\n",
              "15            Москва               54\n",
              "16             Total              485"
            ]
          },
          "metadata": {},
          "output_type": "display_data"
        },
        {
          "name": "stdout",
          "output_type": "stream",
          "text": [
            "Компанией Яндекс размещено 485 вакансий в городах-миллионниках России\n"
          ]
        }
      ],
      "source": [
        "# результат запроса\n",
        "df_5_7 = pd.read_sql_query(query_5_7, connection)\n",
        "display(df_5_7)\n",
        "print(f'Компанией Яндекс размещено {df_5_7.iloc[16,1]} вакансий в городах-миллионниках России')"
      ]
    },
    {
      "cell_type": "markdown",
      "id": "04966e40-3bc3-4dc8-9ba2-e80580ce3abc",
      "metadata": {
        "id": "04966e40-3bc3-4dc8-9ba2-e80580ce3abc"
      },
      "source": [
        "***"
      ]
    },
    {
      "attachments": {},
      "cell_type": "markdown",
      "id": "512ca15c",
      "metadata": {},
      "source": [
        "### Выводы по анализу работодателей:\n",
        "\n",
        "Анализ работодателей показал, что в базе зарегистрирован **23501 работодатель**.\n",
        "\n",
        "В первую очередь следует выделить крупнейших игроков рынка - крупные межрегиональные и международные компании, которым требуется огромный штат сотрудников. \n",
        "Привожу ТОП 10 компаний по числу размещенных вакансий: Яндекс, Ростелеком, Тинькофф, СБЕР, Газпром нефть, ИК СИБИНТЕК, МТС, DataArt, Совкомбанк Технологии, Первый Бит.\n",
        "\n",
        "Вакансии от лидеров рынка предоставлены в большинстве крупных регионов России и многих иностранных представительствах компании. Большой штат сотрудников динамичен и постоянно требует новых специалистов для покрытия потребностей этих компаний. \n",
        "\n",
        "Также замечу, что далеко не у всех занесенных в базу работодателей есть активные размещенные вакансии. Компаний, от которых в данный момент есть вакансии - 63% от общего числа работодателей.\n",
        "\n",
        "Подробный разбор работодателей я привожу в дополнительном блоке в конце проекта."
      ]
    },
    {
      "cell_type": "markdown",
      "id": "b1ef156a-efcb-49ce-bb23-90763e7f35b2",
      "metadata": {
        "id": "b1ef156a-efcb-49ce-bb23-90763e7f35b2",
        "tags": []
      },
      "source": [
        "# Юнит 6. Предметный анализ"
      ]
    },
    {
      "cell_type": "markdown",
      "id": "b9cd50a0-992d-4988-8463-2b2b1c4629b4",
      "metadata": {
        "id": "b9cd50a0-992d-4988-8463-2b2b1c4629b4"
      },
      "source": [
        "1. Сколько вакансий имеет отношение к данным?\n",
        "\n",
        "Считаем, что вакансия имеет отношение к данным, если в её названии содержатся слова 'data' или 'данн'.\n",
        "\n",
        "*Подсказка: Обратите внимание, что названия вакансий могут быть написаны в любом регистре.* \n"
      ]
    },
    {
      "cell_type": "code",
      "execution_count": 96,
      "id": "54ab0e50-c0f1-47cc-a54b-bc5c8bc363f9",
      "metadata": {
        "id": "54ab0e50-c0f1-47cc-a54b-bc5c8bc363f9"
      },
      "outputs": [],
      "source": [
        "# текст запроса\n",
        "query_6_1 = '''select \n",
        "                    count(id) as vacancies_count\n",
        "                from \n",
        "                    public.vacancies\n",
        "                where \n",
        "                    name ilike '%data%' \n",
        "                    or name ilike '%данн%' \n",
        "'''"
      ]
    },
    {
      "cell_type": "code",
      "execution_count": 97,
      "id": "9F1meAqsuUjd",
      "metadata": {
        "id": "9F1meAqsuUjd"
      },
      "outputs": [
        {
          "name": "stdout",
          "output_type": "stream",
          "text": [
            "В базе данных имеется 1771 вакансия, имеющая отношение к работе с данными\n"
          ]
        }
      ],
      "source": [
        "# результат запроса\n",
        "df_6_1 = pd.read_sql_query(query_6_1, connection)\n",
        "print(f'В базе данных имеется {df_6_1.iloc[0,0]} вакансия, имеющая отношение к работе с данными')"
      ]
    },
    {
      "cell_type": "markdown",
      "id": "4dea20cb-a36b-474a-a0b9-e08e8e3857a5",
      "metadata": {
        "id": "4dea20cb-a36b-474a-a0b9-e08e8e3857a5"
      },
      "source": [
        "2. Сколько есть подходящих вакансий для начинающего дата-сайентиста? \n",
        "Будем считать вакансиями для дата-сайентистов такие, в названии которых есть хотя бы одно из следующих сочетаний:\n",
        "* 'data scientist'\n",
        "* 'data science'\n",
        "* 'исследователь данных'\n",
        "* 'ML' (здесь не нужно брать вакансии по HTML)\n",
        "* 'machine learning'\n",
        "* 'машинн%обучен%'\n",
        "\n",
        "** В следующих заданиях мы продолжим работать с вакансиями по этому условию.*\n",
        "\n",
        "Считаем вакансиями для специалистов уровня Junior следующие:\n",
        "* в названии есть слово 'junior' *или*\n",
        "* требуемый опыт — Нет опыта *или*\n",
        "* тип трудоустройства — Стажировка.\n",
        " "
      ]
    },
    {
      "cell_type": "code",
      "execution_count": 98,
      "id": "9c61b3c0-bb66-46c9-ae1e-81d3f5752b4a",
      "metadata": {
        "id": "9c61b3c0-bb66-46c9-ae1e-81d3f5752b4a"
      },
      "outputs": [],
      "source": [
        "# текст запроса\n",
        "query_6_2 = '''select \n",
        "                    count(id) as vacancies_count\n",
        "                from \n",
        "                    public.vacancies\n",
        "                where \n",
        "                    (name ilike '%data scientist%' \n",
        "                    or name ilike '%data science%' \n",
        "                    or name ilike '%исследователь данных%' \n",
        "                    or (name like '%ML%' and name not like '%HTML%') \n",
        "                    or name ilike '%machine learning%' \n",
        "                    or name ilike '%машинн%обучен%')\n",
        "                    and \n",
        "                    (name ilike '%junior%' \n",
        "                    or experience = 'Нет опыта' \n",
        "                    or employment = 'Стажировка') \n",
        "'''"
      ]
    },
    {
      "cell_type": "code",
      "execution_count": 99,
      "id": "ZNM-LLYuu1dj",
      "metadata": {
        "id": "ZNM-LLYuu1dj"
      },
      "outputs": [
        {
          "name": "stdout",
          "output_type": "stream",
          "text": [
            "В базе данных имеется 51 вакансия, подходящая для начинающего дата-сайентиста\n"
          ]
        }
      ],
      "source": [
        "# результат запроса\n",
        "df_6_2 = pd.read_sql_query(query_6_2, connection)\n",
        "print(f'В базе данных имеется {df_6_2.iloc[0,0]} вакансия, подходящая для начинающего дата-сайентиста')"
      ]
    },
    {
      "cell_type": "markdown",
      "id": "eedceb80-c5ca-480e-b27a-278dfb8b4438",
      "metadata": {
        "id": "eedceb80-c5ca-480e-b27a-278dfb8b4438"
      },
      "source": [
        "3. Сколько есть вакансий для DS, в которых в качестве ключевого навыка указан SQL или postgres?\n",
        "\n",
        "** Критерии для отнесения вакансии к DS указаны в предыдущем задании.*"
      ]
    },
    {
      "cell_type": "code",
      "execution_count": 100,
      "id": "69621713-0cc5-4f1b-a1d7-bb144fa6148c",
      "metadata": {
        "id": "69621713-0cc5-4f1b-a1d7-bb144fa6148c"
      },
      "outputs": [],
      "source": [
        "# текст запроса\n",
        "query_6_3 = '''select \n",
        "                    count(id)  as vacancies_count\n",
        "                from \n",
        "                    public.vacancies\n",
        "                where \n",
        "                    (name ilike '%data scientist%' \n",
        "                    or name ilike '%data science%' \n",
        "                    or name ilike '%исследователь данных%' \n",
        "                    or (name like '%ML%' and name not like '%HTML%') \n",
        "                    or name ilike '%machine learning%' \n",
        "                    or name ilike '%машинн%обучен%')\n",
        "                    and \n",
        "                    (key_skills ilike '%SQL%' \n",
        "                    or key_skills ilike '%postgres%') \n",
        "'''"
      ]
    },
    {
      "cell_type": "code",
      "execution_count": 101,
      "id": "alA8WEAAvGdf",
      "metadata": {
        "id": "alA8WEAAvGdf"
      },
      "outputs": [
        {
          "name": "stdout",
          "output_type": "stream",
          "text": [
            "В базе данных имеется 201 вакансия для DS, где в качестве ключевого навыка указан SQL или postgres\n"
          ]
        }
      ],
      "source": [
        "# результат запроса\n",
        "df_6_3 = pd.read_sql_query(query_6_3, connection)\n",
        "print(f'В базе данных имеется {df_6_3.iloc[0,0]} вакансия для DS, где в качестве ключевого навыка указан SQL или postgres')"
      ]
    },
    {
      "cell_type": "markdown",
      "id": "1be1e9c6-37cf-4a5f-bfeb-04cab799dc80",
      "metadata": {
        "id": "1be1e9c6-37cf-4a5f-bfeb-04cab799dc80"
      },
      "source": [
        "4. Проверьте, насколько популярен Python в требованиях работодателей к DS.Для этого вычислите количество вакансий, в которых в качестве ключевого навыка указан Python.\n",
        "\n",
        "** Это можно сделать помощью запроса, аналогичного предыдущему.*"
      ]
    },
    {
      "cell_type": "code",
      "execution_count": 102,
      "id": "0036a355-9ccf-4564-8b01-73d8194297e7",
      "metadata": {
        "id": "0036a355-9ccf-4564-8b01-73d8194297e7"
      },
      "outputs": [],
      "source": [
        "# текст запроса\n",
        "query_6_4 = '''select \n",
        "                    count(id)  as vacancies_count\n",
        "                from \n",
        "                    public.vacancies\n",
        "                where \n",
        "                    (name ilike '%data scientist%' \n",
        "                    or name ilike '%data science%' \n",
        "                    or name ilike '%исследователь данных%' \n",
        "                    or (name like '%ML%' and name not like '%HTML%') \n",
        "                    or name ilike '%machine learning%' \n",
        "                    or name ilike '%машинн%обучен%')\n",
        "                    and key_skills ilike '%python%' \n",
        "'''"
      ]
    },
    {
      "cell_type": "code",
      "execution_count": 103,
      "id": "1i-5WyucvQ6v",
      "metadata": {
        "id": "1i-5WyucvQ6v"
      },
      "outputs": [
        {
          "name": "stdout",
          "output_type": "stream",
          "text": [
            "В базе данных имеется 351 вакансия для DS, где в качестве ключевого навыка указан Python\n"
          ]
        }
      ],
      "source": [
        "# результат запроса\n",
        "df_6_4 = pd.read_sql_query(query_6_4, connection)\n",
        "print(f'В базе данных имеется {df_6_4.iloc[0,0]} вакансия для DS, где в качестве ключевого навыка указан Python')"
      ]
    },
    {
      "cell_type": "markdown",
      "id": "ec3c8db7-fa21-4a41-a994-1af63742a642",
      "metadata": {
        "id": "ec3c8db7-fa21-4a41-a994-1af63742a642"
      },
      "source": [
        "5. Сколько ключевых навыков в среднем указывают в вакансиях для DS?\n",
        "Ответ округлите до двух знаков после точки-разделителя."
      ]
    },
    {
      "cell_type": "code",
      "execution_count": 104,
      "id": "949132bc-d5b6-4611-8218-0b9a504d74f4",
      "metadata": {
        "id": "949132bc-d5b6-4611-8218-0b9a504d74f4"
      },
      "outputs": [],
      "source": [
        "# текст запроса\n",
        "query_6_5 = '''select \n",
        "                    round(avg(length(key_skills) - length(replace(key_skills, CHR(9), '')) + 1), 2)\n",
        "                from \n",
        "                    public.vacancies\n",
        "                where \n",
        "                    (name ilike '%data scientist%' \n",
        "                    or name ilike '%data science%' \n",
        "                    or name ilike '%исследователь данных%' \n",
        "                    or (name like '%ML%' and name not like '%HTML%') \n",
        "                    or name ilike '%machine learning%' \n",
        "                    or name ilike '%машинн%обучен%') \n",
        "'''"
      ]
    },
    {
      "cell_type": "code",
      "execution_count": 105,
      "id": "a3V24Tvmviqk",
      "metadata": {
        "id": "a3V24Tvmviqk"
      },
      "outputs": [
        {
          "name": "stdout",
          "output_type": "stream",
          "text": [
            "В подходящих для DS вакансиях в среднем указывается по 6.41 ключевых навыков\n"
          ]
        }
      ],
      "source": [
        "# результат запроса\n",
        "df_6_5 = pd.read_sql_query(query_6_5, connection)\n",
        "print(f'В подходящих для DS вакансиях в среднем указывается по {df_6_5.iloc[0,0]} ключевых навыков')"
      ]
    },
    {
      "cell_type": "markdown",
      "id": "1041c17a-ca8f-4543-a0ca-32778914fb00",
      "metadata": {
        "id": "1041c17a-ca8f-4543-a0ca-32778914fb00"
      },
      "source": [
        "6. Напишите запрос, позволяющий вычислить, какую зарплату для DS в **среднем** указывают для каждого типа требуемого опыта (уникальное значение из поля *experience*). \n",
        "\n",
        "При решении задачи примите во внимание следующее:\n",
        "1. Рассматриваем только вакансии, у которых заполнено хотя бы одно из двух полей с зарплатой.\n",
        "2. Если заполнены оба поля с зарплатой, то считаем зарплату по каждой вакансии как сумму двух полей, делённую на 2. Если заполнено только одно из полей, то его и считаем зарплатой по вакансии.\n",
        "3. Если в расчётах участвует null, в результате он тоже даст null (посмотрите, что возвращает запрос select 1 + null). Чтобы избежать этой ситуацию, мы воспользуемся функцией [coalesce](https://postgrespro.ru/docs/postgresql/9.5/functions-conditional#functions-coalesce-nvl-ifnull), которая заменит null на значение, которое мы передадим. Например, посмотрите, что возвращает запрос `select 1 + coalesce(null, 0)`\n",
        "\n",
        "Выясните, на какую зарплату в среднем может рассчитывать дата-сайентист с опытом работы от 3 до 6 лет. Результат округлите до целого числа. "
      ]
    },
    {
      "cell_type": "code",
      "execution_count": 106,
      "id": "6a743d39-5204-48d3-8271-b9f88e68d40e",
      "metadata": {
        "id": "6a743d39-5204-48d3-8271-b9f88e68d40e"
      },
      "outputs": [],
      "source": [
        "# текст запроса\n",
        "query_6_6 = '''select \n",
        "                    experience, \n",
        "                    avg((coalesce(salary_from, salary_to) + coalesce(salary_to, salary_from))/2)\n",
        "                from \n",
        "                    public.vacancies\n",
        "                where \n",
        "                    (name ilike '%data scientist%' \n",
        "                    or name ilike '%data science%' \n",
        "                    or name ilike '%исследователь данных%' \n",
        "                    or (name like '%ML%' and name not like '%HTML%') \n",
        "                    or name ilike '%machine learning%' \n",
        "                    or name ilike '%машинн%обучен%')\n",
        "                    and \n",
        "                    (salary_from is not null \n",
        "                    or salary_to is not null)\n",
        "                group by \n",
        "                    experience \n",
        "'''"
      ]
    },
    {
      "cell_type": "code",
      "execution_count": 107,
      "id": "aRIJ0mZEwU1_",
      "metadata": {
        "id": "aRIJ0mZEwU1_"
      },
      "outputs": [
        {
          "data": {
            "text/html": [
              "<div>\n",
              "<style scoped>\n",
              "    .dataframe tbody tr th:only-of-type {\n",
              "        vertical-align: middle;\n",
              "    }\n",
              "\n",
              "    .dataframe tbody tr th {\n",
              "        vertical-align: top;\n",
              "    }\n",
              "\n",
              "    .dataframe thead th {\n",
              "        text-align: right;\n",
              "    }\n",
              "</style>\n",
              "<table border=\"1\" class=\"dataframe\">\n",
              "  <thead>\n",
              "    <tr style=\"text-align: right;\">\n",
              "      <th></th>\n",
              "      <th>experience</th>\n",
              "      <th>avg</th>\n",
              "    </tr>\n",
              "  </thead>\n",
              "  <tbody>\n",
              "    <tr>\n",
              "      <th>0</th>\n",
              "      <td>Нет опыта</td>\n",
              "      <td>74642.857143</td>\n",
              "    </tr>\n",
              "    <tr>\n",
              "      <th>1</th>\n",
              "      <td>От 1 года до 3 лет</td>\n",
              "      <td>139674.750000</td>\n",
              "    </tr>\n",
              "    <tr>\n",
              "      <th>2</th>\n",
              "      <td>От 3 до 6 лет</td>\n",
              "      <td>243114.666667</td>\n",
              "    </tr>\n",
              "  </tbody>\n",
              "</table>\n",
              "</div>"
            ],
            "text/plain": [
              "           experience            avg\n",
              "0           Нет опыта   74642.857143\n",
              "1  От 1 года до 3 лет  139674.750000\n",
              "2       От 3 до 6 лет  243114.666667"
            ]
          },
          "metadata": {},
          "output_type": "display_data"
        },
        {
          "name": "stdout",
          "output_type": "stream",
          "text": [
            "Средняя заработная плата для дата-сайентиста с опытом работы от 3 до 6 лет составляет 243115 рублей\n"
          ]
        }
      ],
      "source": [
        "# результат запроса\n",
        "df_6_6 = pd.read_sql_query(query_6_6, connection)\n",
        "display(df_6_6)\n",
        "avg_salary_3_6_year = round(df_6_6.iloc[2,1])\n",
        "print(f'Средняя заработная плата для дата-сайентиста с опытом работы от 3 до 6 лет составляет {avg_salary_3_6_year} рублей')"
      ]
    },
    {
      "cell_type": "markdown",
      "id": "6a7892b4-4113-4746-adce-18aa2844f18e",
      "metadata": {
        "id": "6a7892b4-4113-4746-adce-18aa2844f18e"
      },
      "source": [
        "***"
      ]
    },
    {
      "attachments": {},
      "cell_type": "markdown",
      "id": "0b8c498b",
      "metadata": {},
      "source": [
        "### Выводы по предметному анализу:\n",
        "\n",
        "Анализ вакансий в предоставленной базе данных показал, что на долю специалистов по работе с данными приходится 1771 вакансия - 3,6% от общего числа вакансий в базе. Не так много, но и не так мало, учитывая, насколько разносторонняя IT-сфера в целом.\n",
        "\n",
        "Заработная плата DS-специалистов сильно варьируется от опыта работы, но даже для новичка доход более чем достойный (средняя зарплата составляет 74642 рубля). Для специалистов с опытом, средняя заработная плата увеличивается в разы: с опытом от 1 года она составляет уже 139675 рублей, а с опытом от 3 лет досигает 243115 рублей. \n",
        "В вакансиях для специалистов с опытом работы более 6 лет зарплата в вакансиях вообще не указывается, но можно предположить, что она еще выше и обговаривается непосредственно на собеседовании.\n",
        "\n",
        "В сравнении со средней вилкой заработной платы по IT-отрасли вцелом (которую высчитывали ранее), статус специалистов по работе с данными ценится и предлагаемые для них вакансии оплачиваются гораздо выше.\n",
        "\n",
        "Подробный разбор по востребованным ключевым навыкам IT-специалиста я привожу в дополнительном блоке в конце проекта."
      ]
    },
    {
      "cell_type": "markdown",
      "id": "c0ED6fh7wiBT",
      "metadata": {
        "id": "c0ED6fh7wiBT"
      },
      "source": [
        "# Общий вывод по проекту"
      ]
    },
    {
      "attachments": {},
      "cell_type": "markdown",
      "id": "a04319ae",
      "metadata": {},
      "source": [
        "Исходя из проведенного анализа базы ваканий можно сделать вывод, что специалисты IT-сферы востребованы на рынке труда, а уровень предлагаемой заработной платы в данной сфере значитально выше средних значений по России.\n",
        "\n",
        "Так, согласно полученным из базы расчетам средняя зарплатная вилка в IT-сфере находится в диапазоне от 71065 до 110537 рублей, тогда как средняя зарплата по России по данным Росстата за 2022 год составляла 64191 рублей. Для DS-специалистов средний уровень зарплаты еще выше и значительно возрастает в зависимости от опыта работы.\n",
        "\n",
        "Рынок труда имеет явных лидеров-работодателей (например, Яндекс, Ростелеком, Сбербанк, Газпром, МТС), которые предлагают сотни вакансий для IT-специалистов всех профилей. Работа в таких компаниях престижна и дает широкие возможности для профессионального развития специалиста и продвижения его по карьерной лестнице.\n",
        "Но и в малом бизнесе без IT-специалистов не обойтись, более половины вакансий в базе от таких компаний.\n",
        "\n",
        "Портал Headhunter охватывает вакансии как российского рынка труда, так и предлагает заманчивые высокооплачиваемые должности в странах ближнего зарубежья, Европы и Азии.\n",
        "\n",
        "DS-специалисты, за счет своей узкой специализации ценны и востребованы на рынке труда. Хотя подходящих вакансий для них значительно меньше (всего 3,6% от общего числа размещенных вакансий), но условия работы, возможности профессионального и карьерного роста и уровень дохода таких специалистов остаются на высоте."
      ]
    },
    {
      "attachments": {},
      "cell_type": "markdown",
      "id": "54a83760",
      "metadata": {},
      "source": [
        "## Дополнительный анализ работодателей и регионов присутствия"
      ]
    },
    {
      "cell_type": "code",
      "execution_count": 109,
      "id": "50246887",
      "metadata": {},
      "outputs": [
        {
          "name": "stdout",
          "output_type": "stream",
          "text": [
            "14906 работодателей разместили вакансии в базе (63% от общего числа работодателей)\n",
            "8699 работодателей разместили по 1 вакансии (58.36% от активных работодателей)\n",
            "5582 работодателей разместили от 2 до 10 вакансий (37.45% от активных работодателей)\n",
            "600 работодателей разместили от 11 до 100 вакансий (4.03% от активных работодателей)\n",
            "25 работодателей разместили более 100 вакансий (0.17% от активных работодателей)\n",
            "21206.0 вакансий размещены крупными работодателями (имеющими более 10 вакансий) (43% от всех вакансий в базе)\n"
          ]
        }
      ],
      "source": [
        "# сделаем выборки работодателей по числу размещенных ими активных вакансий\n",
        "\n",
        "query_add_01 = '''select \n",
        "                    count(distinct employer_id)\n",
        "                from \n",
        "                    public.vacancies\n",
        "'''\n",
        "df_add_01 = pd.read_sql_query(query_add_01, connection)\n",
        "active_employers_ratio = df_add_01.iloc[0,0] / df_3_2.iloc[0,0] * 100\n",
        "print(f'{df_add_01.iloc[0,0]} работодателей разместили вакансии в базе ({round(active_employers_ratio)}% от общего числа работодателей)')\n",
        "\n",
        "query_add_02 = '''with employers_data as \n",
        "                        (select \n",
        "                            employer_id as employers, \n",
        "                            count(id) as vacancies_count\n",
        "                        from \n",
        "                            public.vacancies\n",
        "                        group by \n",
        "                            employer_id\n",
        "                        having \n",
        "                            count(id) = 1\n",
        "                        )\n",
        "                    \n",
        "                    select \n",
        "                        count(employers)\n",
        "                    from \n",
        "                        employers_data\n",
        "\n",
        "'''\n",
        "df_add_02 = pd.read_sql_query(query_add_02, connection)\n",
        "employers_ratio_1 = df_add_02.iloc[0,0] / df_add_01.iloc[0,0] * 100\n",
        "print(f'{df_add_02.iloc[0,0]} работодателей разместили по 1 вакансии ({round(employers_ratio_1, 2)}% от активных работодателей)')\n",
        "\n",
        "query_add_03 = '''with employers_data as \n",
        "                        (select \n",
        "                            employer_id as employers, \n",
        "                            count(id) as vacancies_count\n",
        "                        from \n",
        "                            public.vacancies\n",
        "                        group by \n",
        "                            employer_id\n",
        "                        having \n",
        "                            count(id) > 1 and count(id) <= 10\n",
        "                        )\n",
        "                    \n",
        "                    select \n",
        "                        count(employers)\n",
        "                    from \n",
        "                        employers_data\n",
        "\n",
        "'''\n",
        "df_add_03 = pd.read_sql_query(query_add_03, connection)\n",
        "employers_ratio_2_10 = df_add_03.iloc[0,0] / df_add_01.iloc[0,0] * 100\n",
        "print(f'{df_add_03.iloc[0,0]} работодателей разместили от 2 до 10 вакансий ({round(employers_ratio_2_10, 2)}% от активных работодателей)')\n",
        "\n",
        "query_add_04 = '''with employers_data as \n",
        "                        (select \n",
        "                            employer_id as employers, \n",
        "                            count(id) as vacancies_count\n",
        "                        from \n",
        "                            public.vacancies\n",
        "                        group by \n",
        "                            employer_id\n",
        "                        having \n",
        "                            count(id) > 10 and count(id) <= 100\n",
        "                        )\n",
        "                    \n",
        "                    select \n",
        "                        count(employers)\n",
        "                    from \n",
        "                        employers_data\n",
        "\n",
        "'''\n",
        "df_add_04 = pd.read_sql_query(query_add_04, connection)\n",
        "employers_ratio_11_100 = df_add_04.iloc[0,0] / df_add_01.iloc[0,0] * 100\n",
        "print(f'{df_add_04.iloc[0,0]} работодателей разместили от 11 до 100 вакансий ({round(employers_ratio_11_100, 2)}% от активных работодателей)')\n",
        "\n",
        "query_add_05 = '''with employers_data as \n",
        "                        (select \n",
        "                            employer_id as employers, \n",
        "                            count(id) as vacancies_count\n",
        "                        from \n",
        "                            public.vacancies\n",
        "                        group by \n",
        "                            employer_id\n",
        "                        having \n",
        "                            count(id) > 100\n",
        "                        )\n",
        "                    \n",
        "                    select \n",
        "                        count(employers)\n",
        "                    from \n",
        "                        employers_data\n",
        "\n",
        "'''\n",
        "df_add_05 = pd.read_sql_query(query_add_05, connection)\n",
        "employers_ratio_more_100 = df_add_05.iloc[0,0] / df_add_01.iloc[0,0] * 100\n",
        "print(f'{df_add_05.iloc[0,0]} работодателей разместили более 100 вакансий ({round(employers_ratio_more_100, 2)}% от активных работодателей)')\n",
        "\n",
        "query_add_06 = '''with employers_data as \n",
        "                        (select \n",
        "                            employer_id as employers, \n",
        "                            count(id) as vacancies_count\n",
        "                        from \n",
        "                            public.vacancies\n",
        "                        group by \n",
        "                            employer_id\n",
        "                        having \n",
        "                            count(id) > 10\n",
        "                        )\n",
        "                    \n",
        "                    select \n",
        "                        sum(vacancies_count)\n",
        "                    from \n",
        "                        employers_data\n",
        "\n",
        "'''\n",
        "df_add_06 = pd.read_sql_query(query_add_06, connection)\n",
        "vacancies_ratio = df_add_06.iloc[0,0] / df_3_1.iloc[0,0] * 100\n",
        "print(f'{df_add_06.iloc[0,0]} вакансий размещены крупными работодателями (имеющими более 10 вакансий) ({round(vacancies_ratio)}% от всех вакансий в базе)')\n"
      ]
    },
    {
      "cell_type": "code",
      "execution_count": 110,
      "id": "31f42d38",
      "metadata": {},
      "outputs": [
        {
          "name": "stdout",
          "output_type": "stream",
          "text": [
            "Активные вакансии размещены в 769 регионах (56% от общего числа регионов в базе)\n"
          ]
        }
      ],
      "source": [
        "# Посчитаем, во скольких регионах из занесенных в базу, имеются активные вакансии\n",
        "\n",
        "query_add_07 = '''select \n",
        "                    count(distinct area_id)\n",
        "                from \n",
        "                    public.vacancies\n",
        "'''\n",
        "df_add_07 = pd.read_sql_query(query_add_07, connection)\n",
        "active_area_ratio = df_add_07.iloc[0,0] / df_3_3.iloc[0,0] * 100\n",
        "print(f'Активные вакансии размещены в {df_add_07.iloc[0,0]} регионах ({round(active_area_ratio)}% от общего числа регионов в базе)')"
      ]
    },
    {
      "cell_type": "code",
      "execution_count": 111,
      "id": "2cdf280b",
      "metadata": {},
      "outputs": [
        {
          "data": {
            "text/html": [
              "<div>\n",
              "<style scoped>\n",
              "    .dataframe tbody tr th:only-of-type {\n",
              "        vertical-align: middle;\n",
              "    }\n",
              "\n",
              "    .dataframe tbody tr th {\n",
              "        vertical-align: top;\n",
              "    }\n",
              "\n",
              "    .dataframe thead th {\n",
              "        text-align: right;\n",
              "    }\n",
              "</style>\n",
              "<table border=\"1\" class=\"dataframe\">\n",
              "  <thead>\n",
              "    <tr style=\"text-align: right;\">\n",
              "      <th></th>\n",
              "      <th>area_name</th>\n",
              "      <th>round</th>\n",
              "    </tr>\n",
              "  </thead>\n",
              "  <tbody>\n",
              "    <tr>\n",
              "      <th>0</th>\n",
              "      <td>Германия</td>\n",
              "      <td>452751.0</td>\n",
              "    </tr>\n",
              "    <tr>\n",
              "      <th>1</th>\n",
              "      <td>Болгария</td>\n",
              "      <td>324348.0</td>\n",
              "    </tr>\n",
              "    <tr>\n",
              "      <th>2</th>\n",
              "      <td>Испания</td>\n",
              "      <td>300000.0</td>\n",
              "    </tr>\n",
              "    <tr>\n",
              "      <th>3</th>\n",
              "      <td>Черногория</td>\n",
              "      <td>288589.0</td>\n",
              "    </tr>\n",
              "    <tr>\n",
              "      <th>4</th>\n",
              "      <td>Литва</td>\n",
              "      <td>263019.0</td>\n",
              "    </tr>\n",
              "    <tr>\n",
              "      <th>5</th>\n",
              "      <td>Польша</td>\n",
              "      <td>257156.0</td>\n",
              "    </tr>\n",
              "    <tr>\n",
              "      <th>6</th>\n",
              "      <td>Петропавловка (Республика Бурятия)</td>\n",
              "      <td>250000.0</td>\n",
              "    </tr>\n",
              "    <tr>\n",
              "      <th>7</th>\n",
              "      <td>Турция</td>\n",
              "      <td>235435.0</td>\n",
              "    </tr>\n",
              "    <tr>\n",
              "      <th>8</th>\n",
              "      <td>Кипр</td>\n",
              "      <td>223736.0</td>\n",
              "    </tr>\n",
              "    <tr>\n",
              "      <th>9</th>\n",
              "      <td>Кутаиси</td>\n",
              "      <td>220475.0</td>\n",
              "    </tr>\n",
              "    <tr>\n",
              "      <th>10</th>\n",
              "      <td>Дзержинск (Беларусь)</td>\n",
              "      <td>220349.0</td>\n",
              "    </tr>\n",
              "    <tr>\n",
              "      <th>11</th>\n",
              "      <td>Армения</td>\n",
              "      <td>219570.0</td>\n",
              "    </tr>\n",
              "    <tr>\n",
              "      <th>12</th>\n",
              "      <td>Таджикистан</td>\n",
              "      <td>215094.0</td>\n",
              "    </tr>\n",
              "    <tr>\n",
              "      <th>13</th>\n",
              "      <td>Великобритания</td>\n",
              "      <td>208962.0</td>\n",
              "    </tr>\n",
              "    <tr>\n",
              "      <th>14</th>\n",
              "      <td>Сербия</td>\n",
              "      <td>208423.0</td>\n",
              "    </tr>\n",
              "    <tr>\n",
              "      <th>15</th>\n",
              "      <td>Тбилиси</td>\n",
              "      <td>207156.0</td>\n",
              "    </tr>\n",
              "    <tr>\n",
              "      <th>16</th>\n",
              "      <td>Эстония</td>\n",
              "      <td>204570.0</td>\n",
              "    </tr>\n",
              "    <tr>\n",
              "      <th>17</th>\n",
              "      <td>Латвия</td>\n",
              "      <td>204570.0</td>\n",
              "    </tr>\n",
              "    <tr>\n",
              "      <th>18</th>\n",
              "      <td>Шушары</td>\n",
              "      <td>200000.0</td>\n",
              "    </tr>\n",
              "    <tr>\n",
              "      <th>19</th>\n",
              "      <td>Заполярный (Ямало-Ненецкий АО)</td>\n",
              "      <td>200000.0</td>\n",
              "    </tr>\n",
              "  </tbody>\n",
              "</table>\n",
              "</div>"
            ],
            "text/plain": [
              "                             area_name     round\n",
              "0                             Германия  452751.0\n",
              "1                             Болгария  324348.0\n",
              "2                              Испания  300000.0\n",
              "3                           Черногория  288589.0\n",
              "4                                Литва  263019.0\n",
              "5                               Польша  257156.0\n",
              "6   Петропавловка (Республика Бурятия)  250000.0\n",
              "7                               Турция  235435.0\n",
              "8                                 Кипр  223736.0\n",
              "9                              Кутаиси  220475.0\n",
              "10                Дзержинск (Беларусь)  220349.0\n",
              "11                             Армения  219570.0\n",
              "12                         Таджикистан  215094.0\n",
              "13                      Великобритания  208962.0\n",
              "14                              Сербия  208423.0\n",
              "15                             Тбилиси  207156.0\n",
              "16                             Эстония  204570.0\n",
              "17                              Латвия  204570.0\n",
              "18                              Шушары  200000.0\n",
              "19      Заполярный (Ямало-Ненецкий АО)  200000.0"
            ]
          },
          "execution_count": 111,
          "metadata": {},
          "output_type": "execute_result"
        }
      ],
      "source": [
        "# Найдем регионы, в которых предлагается самая высока зарплата\n",
        "\n",
        "query_add_08 = '''select a.name as area_name, round(avg((coalesce(v.salary_from, v.salary_to) + coalesce(v.salary_to, v.salary_from))/2))\n",
        "                from \n",
        "                    public.vacancies v\n",
        "                    join public.areas a on a.id = v.area_id\n",
        "                where salary_from is not null or salary_to is not null\n",
        "                group by \n",
        "                    a.id \n",
        "                order by 2 desc\n",
        "                '''\n",
        "                \n",
        "hh_avg_salary = pd.read_sql_query(query_add_08, connection)\n",
        "area_list = list(hh_avg_salary['area_name'])\n",
        "hh_avg_salary.head(20)"
      ]
    },
    {
      "attachments": {},
      "cell_type": "markdown",
      "id": "8bc3b445",
      "metadata": {},
      "source": [
        "### Выводы по анализу работодателей\n",
        "\n",
        "По результатам предварительного анализа мы видим, что база данных содержит 49 197 вакансий и сведения о 23 501 работодателе. При этом, вакансии разместило лишь **14 906 компаний** (63% от всех имеющихся работодателей в базе).\n",
        "\n",
        "Потребности работодателей в сотрудниках также сильно различаются:\n",
        "* 58,36% активных работодателей (8699 компаний) ищут 1 сторудника (разместили по 1 вакансии);\n",
        "* 37,45% активных работодателей (5582 компании) ищут от 2 до 10 сотрудников;\n",
        "* 4,03% активных работодателей (600 компании) ищут от 11 до 100 сотрудников;\n",
        "* 0,17% активных работодателей (25 компаний) требуется более 100 сотрудников.\n",
        "\n",
        "При этом, на долю крупных работодателей (последние две категории) приходится **43% вакансий** из всех размещенных в базе.\n",
        "\n",
        "### Выводы по анализу регионов присутствия\n",
        "\n",
        "Предварительный анализ регионов показал, что всего в базе данных содержится информация о 1362 регионах. Однако текущие вакансии открыты лишь **по 769 регионам** (56% от имеющихся).\n",
        "\n",
        "Анализ средней заработной платы по регионам показал, что самая высокая зарплата предлагается IT-специалистам за рубежом. 17 из ТОП 20 регионов по размеру заработной платы находятся за пределами России, а средний уровень зарплаты в этих регионах находится в диапазоне от 200000 рублей до 452751 рублей.\n",
        "\n",
        "Чтобы проводить адекватный анализ вакансий для российских специалистов, следовало бы сперва разделить имеющующуюся базу данных на российские и зарубежные вакансии. Слеовательно изменились бы и все проверяемые показатели (число вакансий и работодателей, средняя зарплатная вилка, набор требований к соискателям).\n",
        "\n",
        "Исходя из вышесказанного нужно отметить, что значения в признаке региона не унифицированы и могут принимать любые масштабы - страна, регион/область/край, город. В базе имеются вакансии и для России и для стран СНГ и для других зарубежных стран.\n",
        "\n",
        "Логической разбивки для объединения городов по регионам и странам (от мелкого объекта к крупному и наоборот) системой не предусмотрено. А понять из таблицы, к какому типу географических объектов относится регион, очень сложно, особенно с учетом того, что географические названия могут повторяться.\n",
        "\n",
        "Следовательно, основывать расчеты в данных на этом признаке можно лишь с учетом большой погрешности в результата. Либо нужно проводить серьезную работу по предобработке данного признака.\n",
        "\n",
        "Также можно добавить, что встречаются и очень странные названия регионов, например \"Яя\", скорее всего это выбросы, ошибки ввода данных.  "
      ]
    },
    {
      "attachments": {},
      "cell_type": "markdown",
      "id": "a66dd8d4",
      "metadata": {},
      "source": [
        "***"
      ]
    },
    {
      "attachments": {},
      "cell_type": "markdown",
      "id": "91000c0e",
      "metadata": {},
      "source": [
        "## Дополнительный анализ по востребованным ключевым навыкам"
      ]
    },
    {
      "attachments": {},
      "cell_type": "markdown",
      "id": "d1f93852",
      "metadata": {},
      "source": [
        "Проведем анализ ключевых навыков, требуемых от соискателей. Для этого выделим из каждой вакансии список ключевых навыков и посчитаем по каждому навыку общее число его вхождений в базе данных."
      ]
    },
    {
      "cell_type": "code",
      "execution_count": 112,
      "id": "15bcf990",
      "metadata": {},
      "outputs": [
        {
          "name": "stdout",
          "output_type": "stream",
          "text": [
            "SQL, Git, Английский язык, Работа в команде, Linux, JavaScript, Python, Управление проектами, 1С программирование, PostgreSQL, Грамотная речь, Аналитическое мышление, Java, 1С: Предприятие 8, ООП, HTML, MS PowerPoint, MySQL, PHP, Пользователь ПК, MS SQL, CSS, Работа с большим объемом информации, Настройка ПК, C#, Настройка сетевых подключений, Информационные технологии, Бизнес-анализ, Atlassian Jira, Организаторские навыки, Настройка ПО, Docker, Деловая коммуникация, Анализ данных, Разработка технических заданий, BPMN, Деловое общение, Техническая поддержка, 1С: Документооборот, Грамотность\n"
          ]
        }
      ],
      "source": [
        "# Выделим основные ключевые навыки, которые требуются от IT-специалиста\n",
        "\n",
        "query_add_09 = '''select \n",
        "                    key_skills\n",
        "                from \n",
        "                    public.vacancies\n",
        "'''\n",
        "\n",
        "key_skills = pd.read_sql_query(query_add_09, connection).dropna()\n",
        "key_skills['key_skills'] = key_skills['key_skills'].apply(lambda x: x.split(sep='\\t'))\n",
        "\n",
        "key_skills_list = []\n",
        "key_skills['key_skills'] = key_skills['key_skills'].apply(lambda x: key_skills_list.extend(x))\n",
        "key_counter = Counter(key_skills_list)\n",
        "\n",
        "\n",
        "key_skils_full = pd.DataFrame(key_counter.items(), columns=['key_skills', 'count']).sort_values('count', ascending=False, ignore_index=True)\n",
        "\n",
        "top_skills = ', '.join(list(key_skils_full['key_skills'].head(40)))\n",
        "print(top_skills)"
      ]
    },
    {
      "cell_type": "code",
      "execution_count": 113,
      "id": "61d1093f",
      "metadata": {},
      "outputs": [
        {
          "name": "stdout",
          "output_type": "stream",
          "text": [
            "Python, SQL, Machine Learning, Git, Математическая статистика, Data Analysis, Data Science, Pandas, ML, Английский язык, Linux, Анализ данных, PyTorch, Big Data, Математическое моделирование, Статистический анализ, NLP, C++, Spark, Tensorflow\n"
          ]
        }
      ],
      "source": [
        "# Выделим основные ключевые навыки, которые требуются от специалистов по работе с данными\n",
        "\n",
        "query_add_10 = '''select \n",
        "                    key_skills\n",
        "                from \n",
        "                    public.vacancies\n",
        "                 where \n",
        "                    (name ilike '%data scientist%' \n",
        "                    or name ilike '%data science%' \n",
        "                    or name ilike '%исследователь данных%' \n",
        "                    or (name like '%ML%' and name not like '%HTML%') \n",
        "                    or name ilike '%machine learning%' \n",
        "                    or name ilike '%машинн%обучен%')\n",
        "'''\n",
        "\n",
        "key_skills_ds = pd.read_sql_query(query_add_10, connection).dropna()\n",
        "key_skills_ds['key_skills'] = key_skills_ds['key_skills'].apply(lambda x: x.split(sep='\\t'))\n",
        "\n",
        "key_skills_ds_list = []\n",
        "key_skills_ds['key_skills'] = key_skills_ds['key_skills'].apply(lambda x: key_skills_ds_list.extend(x))\n",
        "key_counter_ds = Counter(key_skills_ds_list)\n",
        "\n",
        "\n",
        "key_skils_ds = pd.DataFrame(key_counter_ds.items(), columns=['key_skills', 'count']).sort_values('count', ascending=False, ignore_index=True)\n",
        "\n",
        "top_ds_skills = ', '.join(list(key_skils_ds['key_skills'].head(20)))\n",
        "print(top_ds_skills)"
      ]
    },
    {
      "attachments": {},
      "cell_type": "markdown",
      "id": "f897886c",
      "metadata": {},
      "source": [
        "### Выводы по анализу ключевых навыков\n",
        "\n",
        "Можно выделить список наиболее востребованных навыков **для IT-сферы** вцелом. \n",
        "\n",
        "Привожу ТОП 40 навыков по популярности:\n",
        "SQL, Git, Английский язык, Работа в команде, Linux, JavaScript, Python, Управление проектами, 1С программирование, PostgreSQL, Грамотная речь, Аналитическое мышление, Java, 1С: Предприятие 8, ООП, HTML, MS PowerPoint, MySQL, PHP, Пользователь ПК, MS SQL, CSS, Работа с большим объемом информации, Настройка ПК, C#, Настройка сетевых подключений, Информационные технологии, Бизнес-анализ, Atlassian Jira, Организаторские навыки, Настройка ПО, Docker, Деловая коммуникация, Анализ данных, Разработка технических заданий, BPMN, Деловое общение, Техническая поддержка, 1С: Документооборот, Грамотность.\n",
        "\n",
        "Как мы видим, ключевые технические навыки включают в себя знание языков программирования (конкретный язык зависит от вакансии), работа с GIT и СУБД, навыки работы с ПК и операционными системами.\n",
        "\n",
        "Также для работодателей важны и soft-скилы - знание английского языка, умение работы в команде, организаторские способности, граммотность и аналитическое мышление.\n",
        "\n",
        "**Для дата сайентиста** список наиболее востребованных навыков несколько отличается, что логично учитывая специфику профессии.\n",
        "\n",
        "Привожу ТОП 20 навыков по популярности:\n",
        "Python, SQL, Machine Learning, Git, Математическая статистика, Data Analysis, Data Science, Pandas, ML, Английский язык, Linux, Анализ данных, PyTorch, Big Data, Математическое моделирование, Статистический анализ, NLP, C++, Spark, Tensorflow.\n",
        "\n",
        "Как мы видим, работодатели при поиске сотрудника делают упор на технические навыки: владение Python, SQL, Git и знание теоретической базы (математической статистики и моделирования, статистического анализа).\n"
      ]
    },
    {
      "attachments": {},
      "cell_type": "markdown",
      "id": "29bfb319",
      "metadata": {},
      "source": [
        "***"
      ]
    },
    {
      "attachments": {},
      "cell_type": "markdown",
      "id": "b34e253c",
      "metadata": {},
      "source": [
        "## Дальнейшие направления для исследования"
      ]
    },
    {
      "attachments": {},
      "cell_type": "markdown",
      "id": "e63c1566",
      "metadata": {},
      "source": [
        "Предоставленныая база данных имеет существенный, связанный с некорректным учетом регионов размещения вакансий (писал об этом выше). \n",
        "\n",
        "В первую очередь, я бы провел **глубокую предобработку регионов** и сделал актуальные для исследования выборки: база по городам и регионам России, и база по зарубежным регионам. \n",
        "\n",
        "Кроме того, база данных содержит много пустых и некорректных значений (например, во многих вакансиях не указана вилка заработной платы, либо указаны явно заниженные цифры (30 рублей), не заполнены ключевые навыки или имеются не полные сведения о работодателе). \n",
        "\n",
        "Для подготовки базы к анализу нужна **предобработка некорректных признаков, очистка их от выбросов**, а где возможно заполнение пустых строк средними или медианными значениями.\n",
        "\n",
        "После этого стоило бы пересчитать ключевые показатели по каждой из этих выборок в отдельности.\n",
        "\n",
        "Самый важный критерий в базе, на мой взгляд - это **уровень зароботной платы**. Я бы поработал с ним детальнее и изучил его **в разрезе отдельных признаков**:\n",
        "* средняя зарплата по российским регионам (Москва, Санкт-Петербург, города-миллионники, другие города);\n",
        "* средняя зарплата по различным IT-специальностям (можно сделать выборки по ключевым словам из названия вакансии или по ключевым навыкам);\n",
        "* средняя зарплата в зависимости от опыта работы, в том числе с разбивкой по различным IT-специальностям;\n",
        "* средняя зарплата по отдельным работодателям и их сферам деятельности (для этого можно разделить работодателей на несколько групп, например, по их масштабу и числу востребованных специалистов).\n",
        "\n",
        "Зарплата показывает ценность сотрудника, а следовательно имея данные по заработной плате в каждом срезе данных, мы можем выделить важные для работодателя и соискателя критерии оценки труда и квалификации специалиста. Зная это мы можем спрогнозировать подходящие вакансии для конкретных соискателей сервиса Headhunter.\n",
        "\n"
      ]
    }
  ],
  "metadata": {
    "colab": {
      "collapsed_sections": [
        "8d62a9f3-f64e-4fe7-bdac-c4dffa16155e"
      ],
      "provenance": []
    },
    "kernelspec": {
      "display_name": "Python 3",
      "language": "python",
      "name": "python3"
    },
    "language_info": {
      "codemirror_mode": {
        "name": "ipython",
        "version": 3
      },
      "file_extension": ".py",
      "mimetype": "text/x-python",
      "name": "python",
      "nbconvert_exporter": "python",
      "pygments_lexer": "ipython3",
      "version": "3.10.6"
    },
    "vscode": {
      "interpreter": {
        "hash": "916dbcbb3f70747c44a77c7bcd40155683ae19c65e1c03b4aa3499c5328201f1"
      }
    }
  },
  "nbformat": 4,
  "nbformat_minor": 5
}
